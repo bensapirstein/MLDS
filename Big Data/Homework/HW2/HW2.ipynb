{
  "cells": [
    {
      "cell_type": "markdown",
      "metadata": {
        "id": "dqZcndSSjtkH"
      },
      "source": [
        "# Import & Configurations"
      ]
    },
    {
      "cell_type": "code",
      "execution_count": 2,
      "metadata": {
        "id": "nCpySdxpjzlB"
      },
      "outputs": [
        {
          "name": "stdout",
          "output_type": "stream",
          "text": [
            "mkdir: /Users/bensa/.kaggle: File exists\n"
          ]
        }
      ],
      "source": [
        "#setting up Kaggle\n",
        "import json\n",
        "\n",
        "# Installing the Kaggle package\n",
        "\n",
        "#Important Note: complete this with your own key - after running this for the first time remmember to **remove** your API_KEY\n",
        "api_token = {\"username\":\"bensapirstein\",\"key\":\"c1f9c800c4aa648d625a91a25b370c89\"}\n",
        "\n",
        "# creating kaggle.json file with the personal API-Key details \n",
        "# You can also put this file on your Google Drive\n",
        "\n",
        "with open('/Users/bensa/.kaggle/kaggle.json', 'w') as file:\n",
        "  json.dump(api_token, file)\n",
        "!chmod 600 /Users/bensa/.kaggle/kaggle.json"
      ]
    },
    {
      "cell_type": "code",
      "execution_count": 3,
      "metadata": {
        "id": "JWpGM95bj25y"
      },
      "outputs": [],
      "source": [
        "import findspark\n",
        "import random\n",
        "findspark.init()"
      ]
    },
    {
      "cell_type": "code",
      "execution_count": 4,
      "metadata": {
        "id": "IDexHskEgkky"
      },
      "outputs": [],
      "source": [
        "# Other imports\n",
        "import numpy as np\n",
        "import pyspark\n",
        "from pyspark.rdd import RDD\n",
        "from pyspark import SparkContext"
      ]
    },
    {
      "cell_type": "markdown",
      "metadata": {
        "id": "n_sky8bigxPj"
      },
      "source": [
        "# Warm up"
      ]
    },
    {
      "cell_type": "code",
      "execution_count": 8,
      "metadata": {
        "id": "-A67JEacg0CU"
      },
      "outputs": [],
      "source": [
        "def average(num_list: list) -> int:\n",
        "    \"\"\"\n",
        "    This function get a list of numbers and returns the average of the list of numbers\n",
        "    input:\n",
        "        num_list: list contains integer values\n",
        "    output:\n",
        "        return the average of the list\n",
        "    \"\"\"\n",
        "    # Your code here\n",
        "    return np.average(num_list)"
      ]
    },
    {
      "cell_type": "code",
      "execution_count": 9,
      "metadata": {
        "id": "aBnvJWQxh8e6"
      },
      "outputs": [],
      "source": [
        "# When running this cell your code should not return any assert errors\n",
        "\n",
        "assert average([1,2,3]) == 2"
      ]
    },
    {
      "cell_type": "markdown",
      "metadata": {
        "id": "qEFV5GEJioEY"
      },
      "source": [
        "# HW 2- PySpark Exercises\n",
        "During this Homework you should use only PySpark RDD, you should not use PySpark DataFrame in your solutions"
      ]
    },
    {
      "cell_type": "code",
      "execution_count": 14,
      "metadata": {
        "id": "MkrpYO-Nmrb-"
      },
      "outputs": [
        {
          "name": "stdout",
          "output_type": "stream",
          "text": [
            "22/12/31 19:05:09 WARN Utils: Your hostname, Bens-MacBook-Pro.local resolves to a loopback address: 127.0.0.1; using 192.168.0.124 instead (on interface en0)\n",
            "22/12/31 19:05:09 WARN Utils: Set SPARK_LOCAL_IP if you need to bind to another address\n"
          ]
        },
        {
          "name": "stderr",
          "output_type": "stream",
          "text": [
            "Setting default log level to \"WARN\".\n",
            "To adjust logging level use sc.setLogLevel(newLevel). For SparkR, use setLogLevel(newLevel).\n"
          ]
        },
        {
          "name": "stdout",
          "output_type": "stream",
          "text": [
            "22/12/31 19:05:10 WARN NativeCodeLoader: Unable to load native-hadoop library for your platform... using builtin-java classes where applicable\n",
            "22/12/31 19:05:11 WARN Utils: Service 'SparkUI' could not bind on port 4040. Attempting port 4041.\n"
          ]
        }
      ],
      "source": [
        "sc = pyspark.SparkContext(\"local\", appName=\"HW2\")"
      ]
    },
    {
      "cell_type": "markdown",
      "metadata": {
        "id": "VMP32olUiqW0"
      },
      "source": [
        "## RDD Start Questions"
      ]
    },
    {
      "cell_type": "markdown",
      "metadata": {
        "id": "J4Zz9RDQmPUO"
      },
      "source": [
        "### Create RDD from list"
      ]
    },
    {
      "cell_type": "code",
      "execution_count": 15,
      "metadata": {
        "id": "3Lwyuk6PmPKJ"
      },
      "outputs": [],
      "source": [
        "def rdd_from_list(sc: SparkContext, n: int) -> RDD:  \n",
        "    \"\"\"\n",
        "    This function gets the number n and returns a rdd consisting of elements from 1 to n.\n",
        "    Assume that n > 1, no need for any exeption on that manner.\n",
        "    input:\n",
        "        sc: spark context\n",
        "        n: the top number in the generated rdd. For example, if n=3 the rdd created should be [1,2,3]\n",
        "    output:\n",
        "        returns a rdd consisting of elements from 1 to n (includes n).\n",
        "    \"\"\"\n",
        "    data = range(1, n+1)\n",
        "    rdd = sc.parallelize(data)\n",
        "    return rdd"
      ]
    },
    {
      "cell_type": "code",
      "execution_count": 16,
      "metadata": {
        "id": "36ZE25A0mObw"
      },
      "outputs": [
        {
          "name": "stderr",
          "output_type": "stream",
          "text": [
            "[Stage 0:>                                                          (0 + 1) / 1]\r"
          ]
        },
        {
          "name": "stdout",
          "output_type": "stream",
          "text": [
            "[1, 2, 3, 4, 5, 6, 7, 8, 9, 10]\n"
          ]
        },
        {
          "name": "stderr",
          "output_type": "stream",
          "text": [
            "                                                                                \r"
          ]
        }
      ],
      "source": [
        "# When running this cell your code should not return any assert errors\n",
        "\n",
        "# collect() method returns all elements in a RDD to the driver as a local list\n",
        "print(rdd_from_list(sc, 10).collect())\n",
        "\n",
        "result_rdd = rdd_from_list(sc, 3)\n",
        "\n",
        "assert isinstance(result_rdd, RDD)\n",
        "assert result_rdd.collect() == [1, 2, 3]"
      ]
    },
    {
      "cell_type": "markdown",
      "metadata": {
        "id": "DlX48EsljI-f"
      },
      "source": [
        "### Using key-value tuple, square all the values.\n",
        "You can assume that the key is str (String) type and the value is int (integer) type"
      ]
    },
    {
      "cell_type": "code",
      "execution_count": 20,
      "metadata": {
        "id": "qQxwbD2Si_cC"
      },
      "outputs": [],
      "source": [
        "def square_list(sc: SparkContext, pair_list: list) -> list:\n",
        "    \"\"\"\n",
        "    This function gets pair of tuples and returns a list with squre values\n",
        "    input:\n",
        "        sc: spark context\n",
        "        pair_list: a pair key-value tuple that contain string as a key and integer as a value \n",
        "    output:\n",
        "        return a list of key and square values of the original list\n",
        "    \"\"\"\n",
        "    rdd = sc.parallelize(pair_list)\n",
        "    squared_rdd = rdd.map(lambda x: (x[0], x[1]**2))\n",
        "    squared_list = squared_rdd.collect()\n",
        "    return squared_list"
      ]
    },
    {
      "cell_type": "code",
      "execution_count": 21,
      "metadata": {
        "id": "cJFfW0JejCXi"
      },
      "outputs": [],
      "source": [
        "# When running this cell your code should not return any assert errors\n",
        "\n",
        "pair_list = [('a', 1), ('b', 2), ('c', 3)]\n",
        "assert square_list(sc, pair_list) == [('a', 1), ('b', 4), ('c', 9)]"
      ]
    },
    {
      "cell_type": "markdown",
      "metadata": {
        "id": "5A0BI0yToVcR"
      },
      "source": [
        "### Alter Matrix\n"
      ]
    },
    {
      "cell_type": "markdown",
      "metadata": {
        "id": "HQStr4cfGxxa"
      },
      "source": [
        "Assume we have a rdd containing only lists of 2 elements:\n",
        "\n",
        "```\n",
        "matrix = [[1,5], [2,10], [3,14]]\n",
        "matrix_rdd = sc.parallelize(matrix)\n",
        "```\n",
        "\n",
        "This data structure is like a matrix.\n",
        "\n",
        "Create an operation `alter_matrix()` which adding to the first column (or first coordinate of each element) of the matrix by 1, and integer divide 5 from the second column (second coordinate)."
      ]
    },
    {
      "cell_type": "code",
      "execution_count": 22,
      "metadata": {
        "id": "7ymOU1Kgpg0c"
      },
      "outputs": [
        {
          "data": {
            "text/plain": [
              "[1, 2]"
            ]
          },
          "execution_count": 22,
          "metadata": {},
          "output_type": "execute_result"
        }
      ],
      "source": [
        "sc.parallelize([[1,3], [2,9]]).map(lambda row: row[0]).collect()"
      ]
    },
    {
      "cell_type": "code",
      "execution_count": 35,
      "metadata": {
        "id": "nlblY_UroXUP"
      },
      "outputs": [],
      "source": [
        "def alter_matrix(sc: SparkContext, matrix: RDD) -> list:\n",
        "    \"\"\"\n",
        "    This function adds 1 for the first column, and integer divide 5 from the second column \n",
        "    input:\n",
        "        sc: spark context\n",
        "        matrix: a RDD that contain data a list in length of two.\n",
        "    output:\n",
        "        return a RDD adding 1 for the first column and integer divide 5 from the second column of the input RDD\n",
        "    \"\"\"\n",
        "    return matrix.map(lambda x: [x[0] + 1, x[1] // 5])"
      ]
    },
    {
      "cell_type": "code",
      "execution_count": 36,
      "metadata": {
        "id": "vn2OASoboXNl"
      },
      "outputs": [],
      "source": [
        "matrix = [[1,5], [2,10], [3,14]]\n",
        "matrix_rdd = sc.parallelize(matrix)\n",
        "result_rdd = alter_matrix(sc, matrix_rdd)\n",
        "assert isinstance(result_rdd, RDD)\n",
        "assert result_rdd.collect() == [[2, 1], [3, 2], [4, 2]]"
      ]
    },
    {
      "cell_type": "markdown",
      "metadata": {
        "id": "iYrsXJVZqdsQ"
      },
      "source": [
        "### Gets even numbers\n",
        "Assume we have a RDD containin integer numbers.\n",
        "Create a function `gets_even()` which returns all the even numbers in the RDD."
      ]
    },
    {
      "cell_type": "code",
      "execution_count": 45,
      "metadata": {
        "id": "P4j-lMidqf1U"
      },
      "outputs": [],
      "source": [
        "def gets_even(sc: SparkContext, number_rdd: RDD) -> list:\n",
        "    \"\"\"\n",
        "    This function gets rdd and return only even numbers from the given rdd\n",
        "    input:\n",
        "        sc: spark context\n",
        "        number_rdd: a RDD that contain data of integer numbers\n",
        "    output:\n",
        "        return a RDD that contain only even numbers\n",
        "    \"\"\"\n",
        "    return number_rdd.filter(lambda x: x % 2 == 0)"
      ]
    },
    {
      "cell_type": "code",
      "execution_count": 46,
      "metadata": {
        "id": "iQKaMvcqrHQy"
      },
      "outputs": [],
      "source": [
        "numbers = [i for i in range(1, 10)]\n",
        "numbers_rdd = sc.parallelize(numbers)\n",
        "result_rdd = gets_even(sc, numbers_rdd)\n",
        "\n",
        "assert isinstance(result_rdd, RDD)\n",
        "assert result_rdd.collect() == [2,4,6,8]"
      ]
    },
    {
      "cell_type": "markdown",
      "metadata": {
        "id": "YT-ceD4JsDll"
      },
      "source": [
        "### Page Rank algorithm\n"
      ]
    },
    {
      "cell_type": "markdown",
      "metadata": {
        "id": "WSKQWzRBBT7P"
      },
      "source": [
        "The PageRank algorithm assigns a real number to each page on the web (or the portion of the web that has been crawled and its links discovered). This number is meant to indicate how \"important\" the page is.<br> Hadoop was initially developed for Apache Nutch, an open-source web search engine, and one of the first uses of Big Data technologies and MapReduce was to index millions of webpages. In this application, we will explore an implementation of the iterative PageRank algorithm using Spark."
      ]
    },
    {
      "cell_type": "markdown",
      "metadata": {
        "id": "vO61L21VCIhc"
      },
      "source": [
        "We will deal with a more simplifed web system. Assume we have four web pages (A,B,C,D), the following graph shows outbound links from one web page to another (the arrow indicate the flow)<br>\n",
        "![image.png](data:image/png;base64,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)"
      ]
    },
    {
      "cell_type": "markdown",
      "metadata": {
        "id": "nWkSC7w6DmYK"
      },
      "source": [
        "Generate a web system as an RDD of pair tuples (page name, neighbor page name) from a pair rdd (page name, list of all neighbors)\n",
        "Hint: check out for pair rdd opearations such as, `mapValues` or `flatMapValues`. [Spark reference](https://spark.apache.org/docs/2.2.0/api/python/pyspark.html#pyspark.RDD)"
      ]
    },
    {
      "cell_type": "code",
      "execution_count": 55,
      "metadata": {
        "id": "noJZrL2PCnc_"
      },
      "outputs": [],
      "source": [
        "def map_websystem_rdd(sc: SparkContext, neighbor_rdd: RDD) -> RDD:\n",
        "    \"\"\"\n",
        "    This function gets input web system as rdd and mapping rdd of the system.\n",
        "    And returns the mapping of the connection between each two web pages\n",
        "    input:\n",
        "        sc: spark context\n",
        "        neighbor_rdd: a pair RDD of the web system contain each web and its links (web page, list of neighbor pages)\n",
        "    output:\n",
        "        return a pair RDD that contain all links (web page, neighbor web page)\n",
        "    \"\"\"\n",
        "    web_system_rdd = neighbor_rdd.flatMapValues(lambda x: x)\n",
        "    return web_system_rdd"
      ]
    },
    {
      "cell_type": "code",
      "execution_count": 56,
      "metadata": {
        "id": "YXThH2iRsI8g"
      },
      "outputs": [],
      "source": [
        "neighbor_rdd = sc.parallelize([\n",
        "                ('a', ['b','c','d']),\n",
        "                ('c', ['b']), \n",
        "                ('b', ['c','d']), \n",
        "                ('d', ['a','c'])\n",
        "              ])"
      ]
    },
    {
      "cell_type": "code",
      "execution_count": 57,
      "metadata": {
        "id": "YCDGfWthsI3_"
      },
      "outputs": [],
      "source": [
        "result = map_websystem_rdd(sc, neighbor_rdd).collect()"
      ]
    },
    {
      "cell_type": "code",
      "execution_count": 58,
      "metadata": {
        "id": "-yugWjG-sI02"
      },
      "outputs": [
        {
          "name": "stdout",
          "output_type": "stream",
          "text": [
            "23/01/01 00:41:05 WARN HeartbeatReceiver: Removing executor driver with no recent heartbeats: 1062814 ms exceeds timeout 120000 ms\n",
            "23/01/01 00:41:05 WARN SparkContext: Killing executors is not supported by current scheduler.\n"
          ]
        }
      ],
      "source": [
        "assert result == [\n",
        "                    ('a', 'b'), ('a', 'c'), ('a', 'd'), \n",
        "                    ('c', 'b'), \n",
        "                    ('b', 'c'), ('b', 'd'), \n",
        "                    ('d', 'a'), ('d', 'c')\n",
        "                ]"
      ]
    },
    {
      "cell_type": "markdown",
      "metadata": {
        "id": "p8SF5yQ1gdn-"
      },
      "source": [
        "## Kaggle dataset analysis"
      ]
    },
    {
      "cell_type": "markdown",
      "metadata": {
        "id": "E8gEFxpJHUC7"
      },
      "source": [
        "You can choose whatever data set you like from Kaggle and you need to derive meanigful insights using the Pyspark Dataframe API.\n",
        "You need to use at least once from the following [DataFrame API](https://spark.apache.org/docs/3.1.1/api/python/reference/api/pyspark.sql.DataFrame.html#pyspark.sql.DataFrame):\n",
        "\n",
        "*   [show](https://spark.apache.org/docs/3.1.1/api/python/reference/api/pyspark.sql.DataFrame.show.html#pyspark.sql.DataFrame.show)\n",
        "*   [printSchema](https://spark.apache.org/docs/3.1.1/api/python/reference/api/pyspark.sql.DataFrame.printSchema.html#pyspark.sql.DataFrame.printSchema)\n",
        "*   [distinct](https://spark.apache.org/docs/3.1.1/api/python/reference/api/pyspark.sql.DataFrame.distinct.html#pyspark.sql.DataFrame.distinct)\n",
        "*   [filter](https://spark.apache.org/docs/3.1.1/api/python/reference/api/pyspark.sql.DataFrame.filter.html#pyspark.sql.DataFrame.filter)\n",
        "*   [foreach](https://spark.apache.org/docs/3.1.1/api/python/reference/api/pyspark.sql.DataFrame.foreach.html#pyspark.sql.DataFrame.foreach)\n",
        "*   [join](https://spark.apache.org/docs/3.1.1/api/python/reference/api/pyspark.sql.DataFrame.join.html#pyspark.sql.DataFrame.join)\n",
        "*   [orderBy](https://spark.apache.org/docs/3.1.1/api/python/reference/api/pyspark.sql.DataFrame.orderBy.html#pyspark.sql.DataFrame.orderBy)\n",
        "*   [sample](https://spark.apache.org/docs/3.1.1/api/python/reference/api/pyspark.sql.DataFrame.sample.html#pyspark.sql.DataFrame.sample)\n",
        "*   [select](https://spark.apache.org/docs/3.1.1/api/python/reference/api/pyspark.sql.DataFrame.select.html#pyspark.sql.DataFrame.select)\n",
        "*   [subtract](https://spark.apache.org/docs/3.1.1/api/python/reference/api/pyspark.sql.DataFrame.subtract.html#pyspark.sql.DataFrame.subtract)\n",
        "*   [where](https://spark.apache.org/docs/3.1.1/api/python/reference/api/pyspark.sql.DataFrame.where.html#pyspark.sql.DataFrame.where)\n",
        "*   [withColumn](https://spark.apache.org/docs/3.1.1/api/python/reference/api/pyspark.sql.DataFrame.withColumn.html#pyspark.sql.DataFrame.withColumn)\n",
        "*   [withColumnRenamed](https://spark.apache.org/docs/3.1.1/api/python/reference/api/pyspark.sql.DataFrame.withColumnRenamed.html#pyspark.sql.DataFrame.withColumnRenamed)\n",
        "\n",
        "In addition use at least once of the following [functions](https://spark.apache.org/docs/3.1.1/api/python/reference/pyspark.sql.html#functions):\n",
        "*   [array_contains](https://spark.apache.org/docs/3.1.1/api/python/reference/api/pyspark.sql.functions.array_contains.html#pyspark.sql.functions.array_contains)\n",
        "*   [avg](https://spark.apache.org/docs/3.1.1/api/python/reference/api/pyspark.sql.functions.avg.html#pyspark.sql.functions.avg)\n",
        "*   [collect_set](https://spark.apache.org/docs/3.1.1/api/python/reference/api/pyspark.sql.functions.collect_set.html#pyspark.sql.functions.collect_set)\n",
        "*   [countDistinct](https://spark.apache.org/docs/3.1.1/api/python/reference/api/pyspark.sql.functions.countDistinct.html#pyspark.sql.functions.countDistinct)\n",
        "*   [datediff](https://spark.apache.org/docs/3.1.1/api/python/reference/api/pyspark.sql.functions.datediff.html#pyspark.sql.functions.datediff)\n",
        "*   [min](https://spark.apache.org/docs/3.1.1/api/python/reference/api/pyspark.sql.functions.min.html#pyspark.sql.functions.min)\n",
        "*   [regexp_extract](https://spark.apache.org/docs/3.1.1/api/python/reference/api/pyspark.sql.functions.regexp_extract.html#pyspark.sql.functions.regexp_extract)\n",
        "*   [window](https://spark.apache.org/docs/3.1.1/api/python/reference/api/pyspark.sql.functions.window.html?highlight=window)\n",
        "\n",
        "\n",
        "\n"
      ]
    },
    {
      "cell_type": "code",
      "execution_count": null,
      "metadata": {
        "id": "U-jzBCOlgX3q"
      },
      "outputs": [],
      "source": []
    },
    {
      "cell_type": "markdown",
      "metadata": {
        "id": "3HhGXovmmz_N"
      },
      "source": [
        "# Close spark session"
      ]
    },
    {
      "cell_type": "code",
      "execution_count": null,
      "metadata": {
        "id": "nbngjjhtm1uf"
      },
      "outputs": [],
      "source": [
        "sc.stop()"
      ]
    }
  ],
  "metadata": {
    "colab": {
      "collapsed_sections": [
        "dqZcndSSjtkH",
        "n_sky8bigxPj",
        "J4Zz9RDQmPUO",
        "DlX48EsljI-f",
        "5A0BI0yToVcR",
        "iYrsXJVZqdsQ",
        "YT-ceD4JsDll",
        "3HhGXovmmz_N"
      ],
      "provenance": []
    },
    "kernelspec": {
      "display_name": "BDS_Recitation",
      "language": "python",
      "name": "python3"
    },
    "language_info": {
      "codemirror_mode": {
        "name": "ipython",
        "version": 3
      },
      "file_extension": ".py",
      "mimetype": "text/x-python",
      "name": "python",
      "nbconvert_exporter": "python",
      "pygments_lexer": "ipython3",
      "version": "3.8.15"
    },
    "vscode": {
      "interpreter": {
        "hash": "a318961f1267bd63f435799b80d952a8fcec9b4e6ec9b6a99f87f57fd7c14d18"
      }
    }
  },
  "nbformat": 4,
  "nbformat_minor": 0
}
