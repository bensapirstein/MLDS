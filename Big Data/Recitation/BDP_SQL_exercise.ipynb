{
 "cells": [
  {
   "cell_type": "markdown",
   "id": "1b875af6-c51e-49f9-97de-a076d7891bb0",
   "metadata": {},
   "source": [
    "# BDP - SQL Workshop"
   ]
  },
  {
   "cell_type": "markdown",
   "id": "25666d14-b647-47cf-8335-8c8cfa2d8fdb",
   "metadata": {},
   "source": [
    "**Exercise notebook**"
   ]
  },
  {
   "cell_type": "markdown",
   "id": "4c923d89-a18b-4b55-9018-f75bbcf5410a",
   "metadata": {},
   "source": [
    "---"
   ]
  },
  {
   "cell_type": "markdown",
   "id": "45fd4821-1c1f-4170-8543-cc19363f2d14",
   "metadata": {},
   "source": [
    "Create an account and download the train.csv file from kaggle's titanic competition"
   ]
  },
  {
   "cell_type": "markdown",
   "id": "70733373-962a-4626-8b6b-aeec289efe12",
   "metadata": {},
   "source": [
    "https://www.kaggle.com/c/titanic/data"
   ]
  },
  {
   "cell_type": "markdown",
   "id": "6a6332f0-f60c-41c6-89eb-87f3640a3899",
   "metadata": {},
   "source": [
    "Move the csv file to the same path as the notebook"
   ]
  },
  {
   "cell_type": "markdown",
   "id": "48ba2a58-02ad-407f-b7c9-3b64c57a2b08",
   "metadata": {},
   "source": [
    "---"
   ]
  },
  {
   "cell_type": "markdown",
   "id": "5ede0426-f748-433c-8a8c-be495998926e",
   "metadata": {},
   "source": [
    "**The titanic🛳️ dataset is one of the most famous Machine Learning datasets out there.**"
   ]
  },
  {
   "cell_type": "markdown",
   "id": "de40f718-8fce-4ed1-9bf9-f08e6d05fb59",
   "metadata": {},
   "source": [
    "**Dataset columns:** <br>\n",
    "passengerid - *Unique identifier for the passenger* <br>\n",
    "pclass - *Passenger Class (1 = 1st; 2 = 2nd; 3 = 3rd)* <br>\n",
    "name - *Name* <br>\n",
    "sex - *Sex* <br>\n",
    "age - *Age* <br>\n",
    "sibsp - *Number of Siblings / Spouses Aboard* <br>\n",
    "parch - *Number of Parents / Children Aboard* <br>\n",
    "ticket - *Ticket Number* <br>\n",
    "fare - *Passenger Fare* <br>\n",
    "cabin - *Cabin* <br>\n",
    "embarked - *Port of Embarkation (C = Cherbourg; Q = Queenstown; S = Southampton)* <br>\n",
    "survived - *Survival (0 = No; 1 = Yes)* <br>"
   ]
  },
  {
   "cell_type": "markdown",
   "id": "c7d3103c-c9f4-43a7-8090-784e9ef4e026",
   "metadata": {},
   "source": [
    "---"
   ]
  },
  {
   "cell_type": "markdown",
   "id": "885fd1ec-9a53-4b12-a6f9-b02619c3e6a6",
   "metadata": {},
   "source": [
    "**SETUP**"
   ]
  },
  {
   "cell_type": "markdown",
   "id": "c4530ce8-518d-4778-bc45-07e5b3d1e780",
   "metadata": {},
   "source": [
    "For the following exercises we will use the following libraries: <br>\n",
    "- pandas (tabular data) https://pandas.pydata.org/docs/\n",
    "- sqlite database engine https://www.sqlite.org/index.html <br>"
   ]
  },
  {
   "cell_type": "code",
   "execution_count": 2,
   "id": "8f0d44df-9cd3-47d5-a863-8ac5b23bbf45",
   "metadata": {},
   "outputs": [],
   "source": [
    "import pandas as pd\n",
    "import sqlite3"
   ]
  },
  {
   "cell_type": "code",
   "execution_count": 3,
   "id": "9e54fd4a-35e0-4c6f-9f81-0cd60b1d4ae8",
   "metadata": {},
   "outputs": [],
   "source": [
    "df = pd.read_csv('train.csv')\n",
    "\n",
    "df.columns = df.columns.str.lower()\n",
    "\n",
    "# Split the data into features and labels (we will store them in a seperate tables)\n",
    "X = df.drop('survived', axis=1)\n",
    "y = df[['passengerid', 'survived']]"
   ]
  },
  {
   "cell_type": "markdown",
   "id": "6a578973-b97e-448a-ac55-41d9e67244ec",
   "metadata": {},
   "source": [
    "---"
   ]
  },
  {
   "cell_type": "markdown",
   "id": "a6126e42-87de-495a-9497-96e79592b690",
   "metadata": {},
   "source": [
    "Connect to database"
   ]
  },
  {
   "cell_type": "code",
   "execution_count": 4,
   "id": "49f0650d-ff97-414f-8536-1d53e75a0189",
   "metadata": {},
   "outputs": [],
   "source": [
    "con = sqlite3.connect('bdp.db')"
   ]
  },
  {
   "cell_type": "markdown",
   "id": "51f377bd-3619-48fa-b6cd-6194114213fb",
   "metadata": {},
   "source": [
    "Write to database (with pandas)"
   ]
  },
  {
   "cell_type": "code",
   "execution_count": 5,
   "id": "935a2bf0-068f-40c5-ac36-ede6a2a9177d",
   "metadata": {},
   "outputs": [],
   "source": [
    "X.to_sql('titanic_features', con=con, index=False, if_exists='replace')\n",
    "y.to_sql('titanic_labels', con=con, index=False, if_exists='replace')"
   ]
  },
  {
   "cell_type": "markdown",
   "id": "e4274bbf-2b86-40bc-af7b-892db3a4e0ed",
   "metadata": {},
   "source": [
    "Make sure you can query over the database"
   ]
  },
  {
   "cell_type": "code",
   "execution_count": 6,
   "id": "530032c8-3aad-4c62-a059-2e62de29cd96",
   "metadata": {},
   "outputs": [
    {
     "data": {
      "text/html": [
       "<div>\n",
       "<style scoped>\n",
       "    .dataframe tbody tr th:only-of-type {\n",
       "        vertical-align: middle;\n",
       "    }\n",
       "\n",
       "    .dataframe tbody tr th {\n",
       "        vertical-align: top;\n",
       "    }\n",
       "\n",
       "    .dataframe thead th {\n",
       "        text-align: right;\n",
       "    }\n",
       "</style>\n",
       "<table border=\"1\" class=\"dataframe\">\n",
       "  <thead>\n",
       "    <tr style=\"text-align: right;\">\n",
       "      <th></th>\n",
       "      <th>passengerid</th>\n",
       "      <th>pclass</th>\n",
       "      <th>name</th>\n",
       "      <th>sex</th>\n",
       "      <th>age</th>\n",
       "      <th>sibsp</th>\n",
       "      <th>parch</th>\n",
       "      <th>ticket</th>\n",
       "      <th>fare</th>\n",
       "      <th>cabin</th>\n",
       "      <th>embarked</th>\n",
       "    </tr>\n",
       "  </thead>\n",
       "  <tbody>\n",
       "    <tr>\n",
       "      <th>0</th>\n",
       "      <td>1</td>\n",
       "      <td>3</td>\n",
       "      <td>Braund, Mr. Owen Harris</td>\n",
       "      <td>male</td>\n",
       "      <td>22.0</td>\n",
       "      <td>1</td>\n",
       "      <td>0</td>\n",
       "      <td>A/5 21171</td>\n",
       "      <td>7.2500</td>\n",
       "      <td>None</td>\n",
       "      <td>S</td>\n",
       "    </tr>\n",
       "    <tr>\n",
       "      <th>1</th>\n",
       "      <td>2</td>\n",
       "      <td>1</td>\n",
       "      <td>Cumings, Mrs. John Bradley (Florence Briggs Th...</td>\n",
       "      <td>female</td>\n",
       "      <td>38.0</td>\n",
       "      <td>1</td>\n",
       "      <td>0</td>\n",
       "      <td>PC 17599</td>\n",
       "      <td>71.2833</td>\n",
       "      <td>C85</td>\n",
       "      <td>C</td>\n",
       "    </tr>\n",
       "    <tr>\n",
       "      <th>2</th>\n",
       "      <td>3</td>\n",
       "      <td>3</td>\n",
       "      <td>Heikkinen, Miss. Laina</td>\n",
       "      <td>female</td>\n",
       "      <td>26.0</td>\n",
       "      <td>0</td>\n",
       "      <td>0</td>\n",
       "      <td>STON/O2. 3101282</td>\n",
       "      <td>7.9250</td>\n",
       "      <td>None</td>\n",
       "      <td>S</td>\n",
       "    </tr>\n",
       "    <tr>\n",
       "      <th>3</th>\n",
       "      <td>4</td>\n",
       "      <td>1</td>\n",
       "      <td>Futrelle, Mrs. Jacques Heath (Lily May Peel)</td>\n",
       "      <td>female</td>\n",
       "      <td>35.0</td>\n",
       "      <td>1</td>\n",
       "      <td>0</td>\n",
       "      <td>113803</td>\n",
       "      <td>53.1000</td>\n",
       "      <td>C123</td>\n",
       "      <td>S</td>\n",
       "    </tr>\n",
       "    <tr>\n",
       "      <th>4</th>\n",
       "      <td>5</td>\n",
       "      <td>3</td>\n",
       "      <td>Allen, Mr. William Henry</td>\n",
       "      <td>male</td>\n",
       "      <td>35.0</td>\n",
       "      <td>0</td>\n",
       "      <td>0</td>\n",
       "      <td>373450</td>\n",
       "      <td>8.0500</td>\n",
       "      <td>None</td>\n",
       "      <td>S</td>\n",
       "    </tr>\n",
       "    <tr>\n",
       "      <th>...</th>\n",
       "      <td>...</td>\n",
       "      <td>...</td>\n",
       "      <td>...</td>\n",
       "      <td>...</td>\n",
       "      <td>...</td>\n",
       "      <td>...</td>\n",
       "      <td>...</td>\n",
       "      <td>...</td>\n",
       "      <td>...</td>\n",
       "      <td>...</td>\n",
       "      <td>...</td>\n",
       "    </tr>\n",
       "    <tr>\n",
       "      <th>886</th>\n",
       "      <td>887</td>\n",
       "      <td>2</td>\n",
       "      <td>Montvila, Rev. Juozas</td>\n",
       "      <td>male</td>\n",
       "      <td>27.0</td>\n",
       "      <td>0</td>\n",
       "      <td>0</td>\n",
       "      <td>211536</td>\n",
       "      <td>13.0000</td>\n",
       "      <td>None</td>\n",
       "      <td>S</td>\n",
       "    </tr>\n",
       "    <tr>\n",
       "      <th>887</th>\n",
       "      <td>888</td>\n",
       "      <td>1</td>\n",
       "      <td>Graham, Miss. Margaret Edith</td>\n",
       "      <td>female</td>\n",
       "      <td>19.0</td>\n",
       "      <td>0</td>\n",
       "      <td>0</td>\n",
       "      <td>112053</td>\n",
       "      <td>30.0000</td>\n",
       "      <td>B42</td>\n",
       "      <td>S</td>\n",
       "    </tr>\n",
       "    <tr>\n",
       "      <th>888</th>\n",
       "      <td>889</td>\n",
       "      <td>3</td>\n",
       "      <td>Johnston, Miss. Catherine Helen \"Carrie\"</td>\n",
       "      <td>female</td>\n",
       "      <td>NaN</td>\n",
       "      <td>1</td>\n",
       "      <td>2</td>\n",
       "      <td>W./C. 6607</td>\n",
       "      <td>23.4500</td>\n",
       "      <td>None</td>\n",
       "      <td>S</td>\n",
       "    </tr>\n",
       "    <tr>\n",
       "      <th>889</th>\n",
       "      <td>890</td>\n",
       "      <td>1</td>\n",
       "      <td>Behr, Mr. Karl Howell</td>\n",
       "      <td>male</td>\n",
       "      <td>26.0</td>\n",
       "      <td>0</td>\n",
       "      <td>0</td>\n",
       "      <td>111369</td>\n",
       "      <td>30.0000</td>\n",
       "      <td>C148</td>\n",
       "      <td>C</td>\n",
       "    </tr>\n",
       "    <tr>\n",
       "      <th>890</th>\n",
       "      <td>891</td>\n",
       "      <td>3</td>\n",
       "      <td>Dooley, Mr. Patrick</td>\n",
       "      <td>male</td>\n",
       "      <td>32.0</td>\n",
       "      <td>0</td>\n",
       "      <td>0</td>\n",
       "      <td>370376</td>\n",
       "      <td>7.7500</td>\n",
       "      <td>None</td>\n",
       "      <td>Q</td>\n",
       "    </tr>\n",
       "  </tbody>\n",
       "</table>\n",
       "<p>891 rows × 11 columns</p>\n",
       "</div>"
      ],
      "text/plain": [
       "     passengerid  pclass                                               name  \\\n",
       "0              1       3                            Braund, Mr. Owen Harris   \n",
       "1              2       1  Cumings, Mrs. John Bradley (Florence Briggs Th...   \n",
       "2              3       3                             Heikkinen, Miss. Laina   \n",
       "3              4       1       Futrelle, Mrs. Jacques Heath (Lily May Peel)   \n",
       "4              5       3                           Allen, Mr. William Henry   \n",
       "..           ...     ...                                                ...   \n",
       "886          887       2                              Montvila, Rev. Juozas   \n",
       "887          888       1                       Graham, Miss. Margaret Edith   \n",
       "888          889       3           Johnston, Miss. Catherine Helen \"Carrie\"   \n",
       "889          890       1                              Behr, Mr. Karl Howell   \n",
       "890          891       3                                Dooley, Mr. Patrick   \n",
       "\n",
       "        sex   age  sibsp  parch            ticket     fare cabin embarked  \n",
       "0      male  22.0      1      0         A/5 21171   7.2500  None        S  \n",
       "1    female  38.0      1      0          PC 17599  71.2833   C85        C  \n",
       "2    female  26.0      0      0  STON/O2. 3101282   7.9250  None        S  \n",
       "3    female  35.0      1      0            113803  53.1000  C123        S  \n",
       "4      male  35.0      0      0            373450   8.0500  None        S  \n",
       "..      ...   ...    ...    ...               ...      ...   ...      ...  \n",
       "886    male  27.0      0      0            211536  13.0000  None        S  \n",
       "887  female  19.0      0      0            112053  30.0000   B42        S  \n",
       "888  female   NaN      1      2        W./C. 6607  23.4500  None        S  \n",
       "889    male  26.0      0      0            111369  30.0000  C148        C  \n",
       "890    male  32.0      0      0            370376   7.7500  None        Q  \n",
       "\n",
       "[891 rows x 11 columns]"
      ]
     },
     "execution_count": 6,
     "metadata": {},
     "output_type": "execute_result"
    }
   ],
   "source": [
    "query = \"\"\"\n",
    "\n",
    "SELECT * FROM titanic_features\n",
    "\n",
    "\"\"\"\n",
    "\n",
    "pd.read_sql_query(query, con=con)"
   ]
  },
  {
   "cell_type": "markdown",
   "id": "8befaf6e-6dfe-431f-8af8-16a826339c20",
   "metadata": {},
   "source": [
    "---"
   ]
  },
  {
   "cell_type": "markdown",
   "id": "3d06b40b-7539-4033-ac69-539c56a79750",
   "metadata": {},
   "source": [
    "## SQL Exercise"
   ]
  },
  {
   "cell_type": "markdown",
   "id": "8302e052-25a2-42ca-b9f5-cd86a1e62574",
   "metadata": {},
   "source": [
    "Write a query which returns the output below each question. <br>\n",
    "Be careful not to run the output cell (the output will disapper)."
   ]
  },
  {
   "cell_type": "markdown",
   "id": "d3550666-9818-40f3-8ec3-f93ad9277dcc",
   "metadata": {},
   "source": [
    "---"
   ]
  },
  {
   "cell_type": "markdown",
   "id": "232bdc4e-59c1-4edd-bb7f-e648cd74dd7d",
   "metadata": {},
   "source": [
    "### Question 1:"
   ]
  },
  {
   "cell_type": "markdown",
   "id": "5fa25eb1-bfeb-4530-a6c5-529c10188fa4",
   "metadata": {},
   "source": [
    "Create categories based on the ticket price (fare) and count the total amount of passengers in each category. <br>\n",
    "Return only categories with more than 15 passengers."
   ]
  },
  {
   "cell_type": "code",
   "execution_count": 6,
   "id": "85ea2ee0-1353-45b7-82c0-03767ed2bb02",
   "metadata": {},
   "outputs": [
    {
     "data": {
      "text/html": [
       "<div>\n",
       "<style scoped>\n",
       "    .dataframe tbody tr th:only-of-type {\n",
       "        vertical-align: middle;\n",
       "    }\n",
       "\n",
       "    .dataframe tbody tr th {\n",
       "        vertical-align: top;\n",
       "    }\n",
       "\n",
       "    .dataframe thead th {\n",
       "        text-align: right;\n",
       "    }\n",
       "</style>\n",
       "<table border=\"1\" class=\"dataframe\">\n",
       "  <thead>\n",
       "    <tr style=\"text-align: right;\">\n",
       "      <th></th>\n",
       "      <th>fare_category</th>\n",
       "      <th>total_passengers</th>\n",
       "    </tr>\n",
       "  </thead>\n",
       "  <tbody>\n",
       "    <tr>\n",
       "      <th>0</th>\n",
       "      <td>1-19</td>\n",
       "      <td>492</td>\n",
       "    </tr>\n",
       "    <tr>\n",
       "      <th>1</th>\n",
       "      <td>20-49</td>\n",
       "      <td>220</td>\n",
       "    </tr>\n",
       "    <tr>\n",
       "      <th>2</th>\n",
       "      <td>50-99</td>\n",
       "      <td>111</td>\n",
       "    </tr>\n",
       "    <tr>\n",
       "      <th>3</th>\n",
       "      <td>100-199</td>\n",
       "      <td>33</td>\n",
       "    </tr>\n",
       "    <tr>\n",
       "      <th>4</th>\n",
       "      <td>200+</td>\n",
       "      <td>20</td>\n",
       "    </tr>\n",
       "  </tbody>\n",
       "</table>\n",
       "</div>"
      ],
      "text/plain": [
       "  fare_category  total_passengers\n",
       "0          1-19               492\n",
       "1         20-49               220\n",
       "2         50-99               111\n",
       "3       100-199                33\n",
       "4          200+                20"
      ]
     },
     "execution_count": 6,
     "metadata": {},
     "output_type": "execute_result"
    }
   ],
   "source": [
    "# YOUR QUERY\n",
    "query = \"\"\"\n",
    "\n",
    "SELECT \n",
    "    CASE WHEN fare <= 0 THEN '0' \n",
    "    WHEN fare BETWEEN 1 AND 19 THEN '1-19' \n",
    "    WHEN fare BETWEEN 19 AND 49 THEN '20-49'\n",
    "    WHEN fare BETWEEN 49 AND 99 THEN '50-99'\n",
    "    WHEN fare BETWEEN 100 AND 199 THEN '100-199'\n",
    "    WHEN fare > 200 THEN '200+' END as fare_category,\n",
    "    COUNT(passengerid) as total_passengers\n",
    "FROM titanic_features\n",
    "GROUP BY 1\n",
    "HAVING total_passengers > 15\n",
    "ORDER BY 2 DESC\n",
    "\n",
    "\"\"\"\n",
    "\n",
    "pd.read_sql_query(query, con=con)"
   ]
  },
  {
   "cell_type": "code",
   "execution_count": 7,
   "id": "4b58780f-c25a-4158-a5a4-af320ddcc4be",
   "metadata": {
    "deletable": false,
    "editable": false
   },
   "outputs": [],
   "source": [
    "## REQUIRED OUTPUT"
   ]
  },
  {
   "cell_type": "markdown",
   "id": "76dd8a8c-7187-441b-81cb-e9465273b1e5",
   "metadata": {},
   "source": [
    "---"
   ]
  },
  {
   "cell_type": "markdown",
   "id": "e4c9e903-4a13-4c0e-a627-90a275efd228",
   "metadata": {},
   "source": [
    "### Question 2:"
   ]
  },
  {
   "cell_type": "markdown",
   "id": "23ff770a-dfd2-43ac-9568-9d4635eb65e2",
   "metadata": {},
   "source": [
    "Find the elders (age is 65 or above) of each class onboard the titanic and rank them by their age (oldest person onboard ranked as 1). <br>"
   ]
  },
  {
   "cell_type": "code",
   "execution_count": 7,
   "id": "ab016bf1-cc18-4d0f-b626-0bc6ad5d2210",
   "metadata": {},
   "outputs": [
    {
     "data": {
      "text/html": [
       "<div>\n",
       "<style scoped>\n",
       "    .dataframe tbody tr th:only-of-type {\n",
       "        vertical-align: middle;\n",
       "    }\n",
       "\n",
       "    .dataframe tbody tr th {\n",
       "        vertical-align: top;\n",
       "    }\n",
       "\n",
       "    .dataframe thead th {\n",
       "        text-align: right;\n",
       "    }\n",
       "</style>\n",
       "<table border=\"1\" class=\"dataframe\">\n",
       "  <thead>\n",
       "    <tr style=\"text-align: right;\">\n",
       "      <th></th>\n",
       "      <th>name</th>\n",
       "      <th>pclass</th>\n",
       "      <th>age</th>\n",
       "      <th>rank</th>\n",
       "    </tr>\n",
       "  </thead>\n",
       "  <tbody>\n",
       "    <tr>\n",
       "      <th>0</th>\n",
       "      <td>Barkworth, Mr. Algernon Henry Wilson</td>\n",
       "      <td>1</td>\n",
       "      <td>80.0</td>\n",
       "      <td>1</td>\n",
       "    </tr>\n",
       "    <tr>\n",
       "      <th>1</th>\n",
       "      <td>Goldschmidt, Mr. George B</td>\n",
       "      <td>1</td>\n",
       "      <td>71.0</td>\n",
       "      <td>2</td>\n",
       "    </tr>\n",
       "    <tr>\n",
       "      <th>2</th>\n",
       "      <td>Artagaveytia, Mr. Ramon</td>\n",
       "      <td>1</td>\n",
       "      <td>71.0</td>\n",
       "      <td>2</td>\n",
       "    </tr>\n",
       "    <tr>\n",
       "      <th>3</th>\n",
       "      <td>Crosby, Capt. Edward Gifford</td>\n",
       "      <td>1</td>\n",
       "      <td>70.0</td>\n",
       "      <td>4</td>\n",
       "    </tr>\n",
       "    <tr>\n",
       "      <th>4</th>\n",
       "      <td>Ostby, Mr. Engelhart Cornelius</td>\n",
       "      <td>1</td>\n",
       "      <td>65.0</td>\n",
       "      <td>5</td>\n",
       "    </tr>\n",
       "    <tr>\n",
       "      <th>5</th>\n",
       "      <td>Millet, Mr. Francis Davis</td>\n",
       "      <td>1</td>\n",
       "      <td>65.0</td>\n",
       "      <td>5</td>\n",
       "    </tr>\n",
       "    <tr>\n",
       "      <th>6</th>\n",
       "      <td>Mitchell, Mr. Henry Michael</td>\n",
       "      <td>2</td>\n",
       "      <td>70.0</td>\n",
       "      <td>1</td>\n",
       "    </tr>\n",
       "    <tr>\n",
       "      <th>7</th>\n",
       "      <td>Wheadon, Mr. Edward H</td>\n",
       "      <td>2</td>\n",
       "      <td>66.0</td>\n",
       "      <td>2</td>\n",
       "    </tr>\n",
       "    <tr>\n",
       "      <th>8</th>\n",
       "      <td>Svensson, Mr. Johan</td>\n",
       "      <td>3</td>\n",
       "      <td>74.0</td>\n",
       "      <td>1</td>\n",
       "    </tr>\n",
       "    <tr>\n",
       "      <th>9</th>\n",
       "      <td>Connors, Mr. Patrick</td>\n",
       "      <td>3</td>\n",
       "      <td>70.5</td>\n",
       "      <td>2</td>\n",
       "    </tr>\n",
       "    <tr>\n",
       "      <th>10</th>\n",
       "      <td>Duane, Mr. Frank</td>\n",
       "      <td>3</td>\n",
       "      <td>65.0</td>\n",
       "      <td>3</td>\n",
       "    </tr>\n",
       "  </tbody>\n",
       "</table>\n",
       "</div>"
      ],
      "text/plain": [
       "                                    name  pclass   age  rank\n",
       "0   Barkworth, Mr. Algernon Henry Wilson       1  80.0     1\n",
       "1              Goldschmidt, Mr. George B       1  71.0     2\n",
       "2                Artagaveytia, Mr. Ramon       1  71.0     2\n",
       "3           Crosby, Capt. Edward Gifford       1  70.0     4\n",
       "4         Ostby, Mr. Engelhart Cornelius       1  65.0     5\n",
       "5              Millet, Mr. Francis Davis       1  65.0     5\n",
       "6            Mitchell, Mr. Henry Michael       2  70.0     1\n",
       "7                  Wheadon, Mr. Edward H       2  66.0     2\n",
       "8                    Svensson, Mr. Johan       3  74.0     1\n",
       "9                   Connors, Mr. Patrick       3  70.5     2\n",
       "10                      Duane, Mr. Frank       3  65.0     3"
      ]
     },
     "execution_count": 7,
     "metadata": {},
     "output_type": "execute_result"
    }
   ],
   "source": [
    "# YOUR QUERY\n",
    "query = \"\"\"\n",
    "\n",
    "SELECT \n",
    "    name,\n",
    "    pclass,\n",
    "    age,\n",
    "    RANK() OVER(PARTITION BY pclass ORDER BY pclass, age DESC) as rank\n",
    "FROM titanic_features\n",
    "WHERE age >= 65\n",
    "\n",
    "\n",
    "\"\"\"\n",
    "\n",
    "pd.read_sql_query(query, con=con)"
   ]
  },
  {
   "cell_type": "code",
   "execution_count": 9,
   "id": "1ebc9c66-bec2-4bc0-8d1a-c14f5825353e",
   "metadata": {},
   "outputs": [
    {
     "data": {
      "text/html": [
       "<div>\n",
       "<style scoped>\n",
       "    .dataframe tbody tr th:only-of-type {\n",
       "        vertical-align: middle;\n",
       "    }\n",
       "\n",
       "    .dataframe tbody tr th {\n",
       "        vertical-align: top;\n",
       "    }\n",
       "\n",
       "    .dataframe thead th {\n",
       "        text-align: right;\n",
       "    }\n",
       "</style>\n",
       "<table border=\"1\" class=\"dataframe\">\n",
       "  <thead>\n",
       "    <tr style=\"text-align: right;\">\n",
       "      <th></th>\n",
       "      <th>name</th>\n",
       "      <th>pclass</th>\n",
       "      <th>age</th>\n",
       "      <th>rank</th>\n",
       "    </tr>\n",
       "  </thead>\n",
       "  <tbody>\n",
       "    <tr>\n",
       "      <th>0</th>\n",
       "      <td>Barkworth, Mr. Algernon Henry Wilson</td>\n",
       "      <td>1</td>\n",
       "      <td>80.0</td>\n",
       "      <td>1</td>\n",
       "    </tr>\n",
       "    <tr>\n",
       "      <th>1</th>\n",
       "      <td>Goldschmidt, Mr. George B</td>\n",
       "      <td>1</td>\n",
       "      <td>71.0</td>\n",
       "      <td>2</td>\n",
       "    </tr>\n",
       "    <tr>\n",
       "      <th>2</th>\n",
       "      <td>Artagaveytia, Mr. Ramon</td>\n",
       "      <td>1</td>\n",
       "      <td>71.0</td>\n",
       "      <td>2</td>\n",
       "    </tr>\n",
       "    <tr>\n",
       "      <th>3</th>\n",
       "      <td>Crosby, Capt. Edward Gifford</td>\n",
       "      <td>1</td>\n",
       "      <td>70.0</td>\n",
       "      <td>4</td>\n",
       "    </tr>\n",
       "    <tr>\n",
       "      <th>4</th>\n",
       "      <td>Ostby, Mr. Engelhart Cornelius</td>\n",
       "      <td>1</td>\n",
       "      <td>65.0</td>\n",
       "      <td>5</td>\n",
       "    </tr>\n",
       "    <tr>\n",
       "      <th>5</th>\n",
       "      <td>Millet, Mr. Francis Davis</td>\n",
       "      <td>1</td>\n",
       "      <td>65.0</td>\n",
       "      <td>5</td>\n",
       "    </tr>\n",
       "    <tr>\n",
       "      <th>6</th>\n",
       "      <td>Mitchell, Mr. Henry Michael</td>\n",
       "      <td>2</td>\n",
       "      <td>70.0</td>\n",
       "      <td>1</td>\n",
       "    </tr>\n",
       "    <tr>\n",
       "      <th>7</th>\n",
       "      <td>Wheadon, Mr. Edward H</td>\n",
       "      <td>2</td>\n",
       "      <td>66.0</td>\n",
       "      <td>2</td>\n",
       "    </tr>\n",
       "    <tr>\n",
       "      <th>8</th>\n",
       "      <td>Svensson, Mr. Johan</td>\n",
       "      <td>3</td>\n",
       "      <td>74.0</td>\n",
       "      <td>1</td>\n",
       "    </tr>\n",
       "    <tr>\n",
       "      <th>9</th>\n",
       "      <td>Connors, Mr. Patrick</td>\n",
       "      <td>3</td>\n",
       "      <td>70.5</td>\n",
       "      <td>2</td>\n",
       "    </tr>\n",
       "    <tr>\n",
       "      <th>10</th>\n",
       "      <td>Duane, Mr. Frank</td>\n",
       "      <td>3</td>\n",
       "      <td>65.0</td>\n",
       "      <td>3</td>\n",
       "    </tr>\n",
       "  </tbody>\n",
       "</table>\n",
       "</div>"
      ],
      "text/plain": [
       "                                    name  pclass   age  rank\n",
       "0   Barkworth, Mr. Algernon Henry Wilson       1  80.0     1\n",
       "1              Goldschmidt, Mr. George B       1  71.0     2\n",
       "2                Artagaveytia, Mr. Ramon       1  71.0     2\n",
       "3           Crosby, Capt. Edward Gifford       1  70.0     4\n",
       "4         Ostby, Mr. Engelhart Cornelius       1  65.0     5\n",
       "5              Millet, Mr. Francis Davis       1  65.0     5\n",
       "6            Mitchell, Mr. Henry Michael       2  70.0     1\n",
       "7                  Wheadon, Mr. Edward H       2  66.0     2\n",
       "8                    Svensson, Mr. Johan       3  74.0     1\n",
       "9                   Connors, Mr. Patrick       3  70.5     2\n",
       "10                      Duane, Mr. Frank       3  65.0     3"
      ]
     },
     "execution_count": 9,
     "metadata": {
      "deletable": false,
      "editable": false,
      "trusted": true
     },
     "output_type": "execute_result"
    }
   ],
   "source": [
    "## REQUIRED OUTPUT"
   ]
  },
  {
   "cell_type": "markdown",
   "id": "77617d45-c85e-4938-bcac-3fde1143e0c0",
   "metadata": {},
   "source": [
    "---"
   ]
  },
  {
   "cell_type": "markdown",
   "id": "de2802c3-a754-40e7-81cf-464a05b13649",
   "metadata": {},
   "source": [
    "### Question 3:"
   ]
  },
  {
   "cell_type": "markdown",
   "id": "daf18dce-c3c6-4843-babb-fdb6ed75b853",
   "metadata": {},
   "source": [
    "Create a classification model (dummy model) which receive higher accuracy score than what you saw in lecture. <br>\n",
    "HINT: Women and children were evacuated first and there were barely enough lifeboats to accommodate them all. <br>\n",
    "<br>\n",
    "Compute the following evaluation metrics: accuracy, precision, recall and f1_score.\n",
    "\n",
    "https://en.wikipedia.org/wiki/Confusion_matrix"
   ]
  },
  {
   "cell_type": "code",
   "execution_count": 14,
   "id": "dbf9e24a-a588-4b66-8af2-960c55f7201e",
   "metadata": {},
   "outputs": [
    {
     "data": {
      "text/html": [
       "<div>\n",
       "<style scoped>\n",
       "    .dataframe tbody tr th:only-of-type {\n",
       "        vertical-align: middle;\n",
       "    }\n",
       "\n",
       "    .dataframe tbody tr th {\n",
       "        vertical-align: top;\n",
       "    }\n",
       "\n",
       "    .dataframe thead th {\n",
       "        text-align: right;\n",
       "    }\n",
       "</style>\n",
       "<table border=\"1\" class=\"dataframe\">\n",
       "  <thead>\n",
       "    <tr style=\"text-align: right;\">\n",
       "      <th></th>\n",
       "      <th>accuracy</th>\n",
       "    </tr>\n",
       "  </thead>\n",
       "  <tbody>\n",
       "    <tr>\n",
       "      <th>0</th>\n",
       "      <td>0.782267</td>\n",
       "    </tr>\n",
       "  </tbody>\n",
       "</table>\n",
       "</div>"
      ],
      "text/plain": [
       "   accuracy\n",
       "0  0.782267"
      ]
     },
     "execution_count": 14,
     "metadata": {},
     "output_type": "execute_result"
    }
   ],
   "source": [
    "query = \"\"\"\n",
    "\n",
    "WITH raw_data AS (\n",
    "    SELECT CASE WHEN (sex = 'male' AND age >= 12) OR pclass NOT IN (1, 2) THEN 0 ELSE 1 END AS y_pred\n",
    "        , survived AS y_true\n",
    "    FROM titanic_features\n",
    "        JOIN titanic_labels\n",
    "            USING(passengerid)\n",
    "    )\n",
    "\n",
    "\n",
    "SELECT AVG(y_true = y_pred) AS accuracy\n",
    "FROM raw_data\n",
    "\"\"\"\n",
    "\n",
    "pd.read_sql_query(query, con=con)"
   ]
  },
  {
   "cell_type": "code",
   "execution_count": 10,
   "id": "ebc00683",
   "metadata": {},
   "outputs": [
    {
     "data": {
      "text/html": [
       "<div>\n",
       "<style scoped>\n",
       "    .dataframe tbody tr th:only-of-type {\n",
       "        vertical-align: middle;\n",
       "    }\n",
       "\n",
       "    .dataframe tbody tr th {\n",
       "        vertical-align: top;\n",
       "    }\n",
       "\n",
       "    .dataframe thead th {\n",
       "        text-align: right;\n",
       "    }\n",
       "</style>\n",
       "<table border=\"1\" class=\"dataframe\">\n",
       "  <thead>\n",
       "    <tr style=\"text-align: right;\">\n",
       "      <th></th>\n",
       "      <th>accuracy</th>\n",
       "      <th>precision</th>\n",
       "      <th>recall</th>\n",
       "      <th>f1_score</th>\n",
       "    </tr>\n",
       "  </thead>\n",
       "  <tbody>\n",
       "    <tr>\n",
       "      <th>0</th>\n",
       "      <td>0.786756</td>\n",
       "      <td>0.742038</td>\n",
       "      <td>0.681287</td>\n",
       "      <td>0.710366</td>\n",
       "    </tr>\n",
       "  </tbody>\n",
       "</table>\n",
       "</div>"
      ],
      "text/plain": [
       "   accuracy  precision    recall  f1_score\n",
       "0  0.786756   0.742038  0.681287  0.710366"
      ]
     },
     "execution_count": 10,
     "metadata": {},
     "output_type": "execute_result"
    }
   ],
   "source": [
    "query = \"\"\"\n",
    "\n",
    "WITH raw_data AS (\n",
    "    SELECT CASE WHEN sex = 'male' THEN 0 ELSE 1 END AS y_pred\n",
    "        , survived AS y_true\n",
    "    FROM titanic_features\n",
    "        JOIN titanic_labels\n",
    "            USING(passengerid)\n",
    "    ),\n",
    "\n",
    "confusion_matrix AS (\n",
    "    SELECT\n",
    "        CAST(COUNT(CASE WHEN y_pred = 0 AND y_true = 1 then 1 end) AS FLOAT) as false_neg,\n",
    "        CAST(COUNT(CASE WHEN y_pred = 0 AND y_true = 0 then 1 end) AS FLOAT) as true_neg,\n",
    "        CAST(COUNT(CASE WHEN y_pred = 1 AND y_true = 0 then 1 end) AS FLOAT) as false_pos,\n",
    "        CAST(COUNT(CASE WHEN y_pred = 1 AND y_true = 1 then 1 end) AS FLOAT) as true_pos,\n",
    "        COUNT(*) as count\n",
    "    FROM raw_data\n",
    "),\n",
    "\n",
    "evaluation_metrics AS (\n",
    "SELECT (true_pos + true_neg) / count AS accuracy,\n",
    "    true_pos / (true_pos + false_pos) as precision,\n",
    "    true_pos / (true_pos + false_neg) as recall\n",
    "FROM confusion_matrix\n",
    ")\n",
    "\n",
    "SELECT accuracy, precision, recall,\n",
    "    2 * (precision * recall) / (precision + recall) as f1_score\n",
    "FROM evaluation_metrics\n",
    "\n",
    "\"\"\"\n",
    "pd.read_sql_query(query, con=con)"
   ]
  },
  {
   "cell_type": "code",
   "execution_count": 11,
   "id": "4e1bf572-9e49-4c69-977f-1bdf7b579629",
   "metadata": {},
   "outputs": [
    {
     "data": {
      "text/html": [
       "<div>\n",
       "<style scoped>\n",
       "    .dataframe tbody tr th:only-of-type {\n",
       "        vertical-align: middle;\n",
       "    }\n",
       "\n",
       "    .dataframe tbody tr th {\n",
       "        vertical-align: top;\n",
       "    }\n",
       "\n",
       "    .dataframe thead th {\n",
       "        text-align: right;\n",
       "    }\n",
       "</style>\n",
       "<table border=\"1\" class=\"dataframe\">\n",
       "  <thead>\n",
       "    <tr style=\"text-align: right;\">\n",
       "      <th></th>\n",
       "      <th>accuracy</th>\n",
       "      <th>precision</th>\n",
       "      <th>recall</th>\n",
       "      <th>f1_score</th>\n",
       "    </tr>\n",
       "  </thead>\n",
       "  <tbody>\n",
       "    <tr>\n",
       "      <th>0</th>\n",
       "      <td>0.792368</td>\n",
       "      <td>0.723647</td>\n",
       "      <td>0.74269</td>\n",
       "      <td>0.733045</td>\n",
       "    </tr>\n",
       "  </tbody>\n",
       "</table>\n",
       "</div>"
      ],
      "text/plain": [
       "   accuracy  precision   recall  f1_score\n",
       "0  0.792368   0.723647  0.74269  0.733045"
      ]
     },
     "execution_count": 11,
     "metadata": {
      "deletable": false,
      "editable": false,
      "trusted": true
     },
     "output_type": "execute_result"
    }
   ],
   "source": [
    "## REQUIRED OUTPUT"
   ]
  },
  {
   "cell_type": "markdown",
   "id": "58f52c73-b168-4384-ab9e-a29cfbc2bb48",
   "metadata": {},
   "source": [
    "---"
   ]
  },
  {
   "cell_type": "markdown",
   "id": "6f686f6a-7130-495a-b3ca-3eaf33d7860d",
   "metadata": {},
   "source": [
    "### Question 4:"
   ]
  },
  {
   "cell_type": "markdown",
   "id": "6f9f37e2-3bfe-47d3-99b8-f5b3513216ba",
   "metadata": {},
   "source": [
    "Write a function which aggregates the fare column, based on other columns. <br>\n",
    "\n",
    "The parameter agg can receive 'avg', 'sum', 'count', 'min', 'max' as values. <br>\n",
    "If the user provides a list of columns, the aggregations will be based on those columns (group by). <br>"
   ]
  },
  {
   "cell_type": "code",
   "execution_count": 77,
   "id": "17c92a18-b9b8-40f7-8ee5-59cc94b94a8d",
   "metadata": {},
   "outputs": [],
   "source": [
    "def fare_aggregates(columns=[], agg=\"avg\") -> pd.DataFrame:\n",
    "    \n",
    "    column_names = \" \".join(column + \",\" for column in columns) if columns else \"\"\n",
    "    group_by_command = \"GROUP BY \" + column_names[:-1] if columns else \"\"\n",
    "\n",
    "    query = f\"\"\"\n",
    "\n",
    "    -- YOUR QUERY\n",
    "    SELECT {column_names} {agg}(fare) as {agg}_fare\n",
    "    FROM titanic_features\n",
    "    {group_by_command}\n",
    "    \n",
    "    \"\"\"\n",
    "\n",
    "    return pd.read_sql_query(query, con=con)"
   ]
  },
  {
   "cell_type": "code",
   "execution_count": 78,
   "id": "9df2c23a",
   "metadata": {},
   "outputs": [
    {
     "name": "stdout",
     "output_type": "stream",
     "text": [
      "    avg_fare\n",
      "0  32.204208\n",
      "     sum_fare\n",
      "0  28693.9493\n",
      "      sex  pclass    avg_fare\n",
      "0  female       1  106.125798\n",
      "1  female       2   21.970121\n",
      "2  female       3   16.118810\n",
      "3    male       1   67.226127\n",
      "4    male       2   19.741782\n",
      "5    male       3   12.661633\n"
     ]
    }
   ],
   "source": [
    "print(fare_aggregates())\n",
    "print(fare_aggregates(agg='sum'))\n",
    "print(fare_aggregates(columns=['sex', 'pclass']))"
   ]
  },
  {
   "cell_type": "code",
   "execution_count": 13,
   "id": "c5b487ee-61ff-463f-8632-87f075eef736",
   "metadata": {},
   "outputs": [
    {
     "data": {
      "text/html": [
       "<div>\n",
       "<style scoped>\n",
       "    .dataframe tbody tr th:only-of-type {\n",
       "        vertical-align: middle;\n",
       "    }\n",
       "\n",
       "    .dataframe tbody tr th {\n",
       "        vertical-align: top;\n",
       "    }\n",
       "\n",
       "    .dataframe thead th {\n",
       "        text-align: right;\n",
       "    }\n",
       "</style>\n",
       "<table border=\"1\" class=\"dataframe\">\n",
       "  <thead>\n",
       "    <tr style=\"text-align: right;\">\n",
       "      <th></th>\n",
       "      <th>avg_fare</th>\n",
       "    </tr>\n",
       "  </thead>\n",
       "  <tbody>\n",
       "    <tr>\n",
       "      <th>0</th>\n",
       "      <td>32.204208</td>\n",
       "    </tr>\n",
       "  </tbody>\n",
       "</table>\n",
       "</div>"
      ],
      "text/plain": [
       "    avg_fare\n",
       "0  32.204208"
      ]
     },
     "execution_count": 13,
     "metadata": {
      "deletable": false,
      "editable": false,
      "trusted": true
     },
     "output_type": "execute_result"
    }
   ],
   "source": [
    "fare_aggregates()"
   ]
  },
  {
   "cell_type": "code",
   "execution_count": 14,
   "id": "bee3f668-e881-4bd1-9ce9-f45ee58f2d54",
   "metadata": {},
   "outputs": [
    {
     "data": {
      "text/html": [
       "<div>\n",
       "<style scoped>\n",
       "    .dataframe tbody tr th:only-of-type {\n",
       "        vertical-align: middle;\n",
       "    }\n",
       "\n",
       "    .dataframe tbody tr th {\n",
       "        vertical-align: top;\n",
       "    }\n",
       "\n",
       "    .dataframe thead th {\n",
       "        text-align: right;\n",
       "    }\n",
       "</style>\n",
       "<table border=\"1\" class=\"dataframe\">\n",
       "  <thead>\n",
       "    <tr style=\"text-align: right;\">\n",
       "      <th></th>\n",
       "      <th>sum_fare</th>\n",
       "    </tr>\n",
       "  </thead>\n",
       "  <tbody>\n",
       "    <tr>\n",
       "      <th>0</th>\n",
       "      <td>28693.9493</td>\n",
       "    </tr>\n",
       "  </tbody>\n",
       "</table>\n",
       "</div>"
      ],
      "text/plain": [
       "     sum_fare\n",
       "0  28693.9493"
      ]
     },
     "execution_count": 14,
     "metadata": {
      "deletable": false,
      "editable": false,
      "trusted": true
     },
     "output_type": "execute_result"
    }
   ],
   "source": [
    "fare_aggregates(agg='sum')"
   ]
  },
  {
   "cell_type": "code",
   "execution_count": 15,
   "id": "b1a7aa6d-c1bb-472b-a501-79c736c590f3",
   "metadata": {},
   "outputs": [
    {
     "data": {
      "text/html": [
       "<div>\n",
       "<style scoped>\n",
       "    .dataframe tbody tr th:only-of-type {\n",
       "        vertical-align: middle;\n",
       "    }\n",
       "\n",
       "    .dataframe tbody tr th {\n",
       "        vertical-align: top;\n",
       "    }\n",
       "\n",
       "    .dataframe thead th {\n",
       "        text-align: right;\n",
       "    }\n",
       "</style>\n",
       "<table border=\"1\" class=\"dataframe\">\n",
       "  <thead>\n",
       "    <tr style=\"text-align: right;\">\n",
       "      <th></th>\n",
       "      <th>sex</th>\n",
       "      <th>pclass</th>\n",
       "      <th>avg_fare</th>\n",
       "    </tr>\n",
       "  </thead>\n",
       "  <tbody>\n",
       "    <tr>\n",
       "      <th>0</th>\n",
       "      <td>female</td>\n",
       "      <td>1</td>\n",
       "      <td>106.125798</td>\n",
       "    </tr>\n",
       "    <tr>\n",
       "      <th>1</th>\n",
       "      <td>female</td>\n",
       "      <td>2</td>\n",
       "      <td>21.970121</td>\n",
       "    </tr>\n",
       "    <tr>\n",
       "      <th>2</th>\n",
       "      <td>female</td>\n",
       "      <td>3</td>\n",
       "      <td>16.118810</td>\n",
       "    </tr>\n",
       "    <tr>\n",
       "      <th>3</th>\n",
       "      <td>male</td>\n",
       "      <td>1</td>\n",
       "      <td>67.226127</td>\n",
       "    </tr>\n",
       "    <tr>\n",
       "      <th>4</th>\n",
       "      <td>male</td>\n",
       "      <td>2</td>\n",
       "      <td>19.741782</td>\n",
       "    </tr>\n",
       "    <tr>\n",
       "      <th>5</th>\n",
       "      <td>male</td>\n",
       "      <td>3</td>\n",
       "      <td>12.661633</td>\n",
       "    </tr>\n",
       "  </tbody>\n",
       "</table>\n",
       "</div>"
      ],
      "text/plain": [
       "      sex  pclass    avg_fare\n",
       "0  female       1  106.125798\n",
       "1  female       2   21.970121\n",
       "2  female       3   16.118810\n",
       "3    male       1   67.226127\n",
       "4    male       2   19.741782\n",
       "5    male       3   12.661633"
      ]
     },
     "execution_count": 15,
     "metadata": {
      "deletable": false,
      "editable": false,
      "trusted": true
     },
     "output_type": "execute_result"
    }
   ],
   "source": [
    "fare_aggregates(columns=['sex', 'pclass'])"
   ]
  },
  {
   "cell_type": "markdown",
   "id": "e64116db-ebe4-4ca3-94e2-891386c3835d",
   "metadata": {},
   "source": [
    "---"
   ]
  },
  {
   "cell_type": "markdown",
   "id": "4f301060-ec7b-4edc-a781-e4e5dc524fe6",
   "metadata": {},
   "source": [
    "Terminate the connection to the database"
   ]
  },
  {
   "cell_type": "code",
   "execution_count": 16,
   "id": "30975baa-0575-4f79-a5eb-fd81e7e49fd5",
   "metadata": {},
   "outputs": [],
   "source": [
    "con.close()"
   ]
  },
  {
   "cell_type": "markdown",
   "id": "a1f0d8ae-188c-4991-acec-9c9f2bacf78c",
   "metadata": {},
   "source": [
    "---"
   ]
  }
 ],
 "metadata": {
  "kernelspec": {
   "display_name": "Python 3.9.6 64-bit",
   "language": "python",
   "name": "python3"
  },
  "language_info": {
   "codemirror_mode": {
    "name": "ipython",
    "version": 3
   },
   "file_extension": ".py",
   "mimetype": "text/x-python",
   "name": "python",
   "nbconvert_exporter": "python",
   "pygments_lexer": "ipython3",
   "version": "3.9.6 (default, Jun 29 2021, 05:25:02) \n[Clang 12.0.5 (clang-1205.0.22.9)]"
  },
  "vscode": {
   "interpreter": {
    "hash": "aee8b7b246df8f9039afb4144a1f6fd8d2ca17a180786b69acc140d282b71a49"
   }
  }
 },
 "nbformat": 4,
 "nbformat_minor": 5
}
