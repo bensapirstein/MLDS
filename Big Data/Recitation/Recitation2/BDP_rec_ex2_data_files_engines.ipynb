{
 "cells": [
  {
   "cell_type": "markdown",
   "metadata": {},
   "source": [
    "# BDP - Cloud Storage Workshop"
   ]
  },
  {
   "cell_type": "markdown",
   "metadata": {},
   "source": [
    "**Exercise notebook**"
   ]
  },
  {
   "cell_type": "markdown",
   "metadata": {},
   "source": [
    "---"
   ]
  },
  {
   "cell_type": "markdown",
   "metadata": {},
   "source": [
    "We will imitate working on the cloud:\n",
    "\n",
    "* Your computer's disk as **Object Storage**.\n",
    "* The **Big Data Engine** will be DuckDB (a high-performance analytical database system).\n",
    "* The **BI tool** is jupyter."
   ]
  },
  {
   "cell_type": "markdown",
   "metadata": {},
   "source": [
    "---"
   ]
  },
  {
   "cell_type": "markdown",
   "metadata": {},
   "source": [
    "**SETUP**"
   ]
  },
  {
   "cell_type": "markdown",
   "metadata": {},
   "source": [
    "We will use a slightly older version of pandas and pyarrow<br>\n",
    "pandas uses pyarrow as the default engine to handle parquet files"
   ]
  },
  {
   "cell_type": "code",
   "execution_count": null,
   "metadata": {},
   "outputs": [],
   "source": [
    "#!pip install numpy==1.23.5 -q\n",
    "!pip install pandas==1.1.5 -q\n",
    "!pip install pyarrow==2.0.0 -q"
   ]
  },
  {
   "cell_type": "code",
   "execution_count": 1,
   "id": "1be77a8e",
   "metadata": {},
   "outputs": [
    {
     "name": "stdout",
     "output_type": "stream",
     "text": [
      "Package                       Version\n",
      "----------------------------- ---------\n",
      "appnope                       0.1.3\n",
      "asttokens                     2.2.1\n",
      "backcall                      0.2.0\n",
      "backports.functools-lru-cache 1.6.4\n",
      "certifi                       2022.12.7\n",
      "comm                          0.1.2\n",
      "debugpy                       1.6.4\n",
      "decorator                     5.1.1\n",
      "entrypoints                   0.4\n",
      "executing                     1.2.0\n",
      "ipykernel                     6.19.4\n",
      "ipython                       8.7.0\n",
      "jedi                          0.18.2\n",
      "jupyter_client                7.4.8\n",
      "jupyter_core                  5.1.0\n",
      "matplotlib-inline             0.1.6\n",
      "nest-asyncio                  1.5.6\n",
      "numpy                         1.23.5\n",
      "packaging                     22.0\n",
      "pandas                        1.1.5\n",
      "parso                         0.8.3\n",
      "pexpect                       4.8.0\n",
      "pickleshare                   0.7.5\n",
      "pip                           22.3.1\n",
      "platformdirs                  2.6.0\n",
      "prompt-toolkit                3.0.36\n",
      "psutil                        5.9.4\n",
      "ptyprocess                    0.7.0\n",
      "pure-eval                     0.2.2\n",
      "pyarrow                       2.0.0\n",
      "Pygments                      2.13.0\n",
      "python-dateutil               2.8.2\n",
      "pytz                          2022.7\n",
      "pyzmq                         24.0.1\n",
      "setuptools                    65.5.0\n",
      "six                           1.16.0\n",
      "stack-data                    0.6.2\n",
      "tornado                       6.2\n",
      "traitlets                     5.8.0\n",
      "wcwidth                       0.2.5\n",
      "wheel                         0.37.1\n"
     ]
    }
   ],
   "source": [
    "!pip list"
   ]
  },
  {
   "cell_type": "code",
   "execution_count": 2,
   "metadata": {},
   "outputs": [],
   "source": [
    "import pandas as pd\n",
    "import numpy as np"
   ]
  },
  {
   "cell_type": "markdown",
   "metadata": {},
   "source": [
    "For the following exercises we will generate a dataset and store it locally (as a parquet file and as a csv file)."
   ]
  },
  {
   "cell_type": "code",
   "execution_count": 2,
   "metadata": {},
   "outputs": [],
   "source": [
    "def generate_data():\n",
    "\n",
    "    date_range = pd.date_range(start='2023-01-01 00:00:00', end='2023-01-07 23:00:00', freq='S').astype(str)\n",
    "\n",
    "    index = np.random.choice(date_range, size=AMOUNT_OF_ROWS)\n",
    "    user_id = np.random.randint(1_000_000, 9_999_999, size=AMOUNT_OF_ROWS)\n",
    "    platform = np.random.choice(['Android', 'iOS', 'Amazon'], p=[0.5, 0.45, 0.05], size=AMOUNT_OF_ROWS)\n",
    "    transaction_id = np.random.randint(10_000_000_000, 10_123_999_999, size=AMOUNT_OF_ROWS)\n",
    "    purchases = np.random.choice([0.99, 1.99, 2.99, 3.99, 4.99, 5.99, 9.99, 19.99], p=[0.2, 0.3, 0.25, 0.1, 0.05, 0.05, 0.04, 0.01], size=AMOUNT_OF_ROWS)\n",
    "    session_time = (np.random.random(size=AMOUNT_OF_ROWS) * 10).round(2)\n",
    "    \n",
    "    df = pd.DataFrame({'timestamp': index, 'user_id': user_id, 'platform': platform,\n",
    "                       'transaction_id': transaction_id, 'purchases': purchases, 'session_time': session_time})\n",
    "    \n",
    "    df['dtstring'] = pd.to_datetime(df['timestamp']).dt.strftime('%Y%m%d')\n",
    "    \n",
    "    return df"
   ]
  },
  {
   "cell_type": "code",
   "execution_count": 3,
   "metadata": {},
   "outputs": [],
   "source": [
    "AMOUNT_OF_ROWS = 1_000_000"
   ]
  },
  {
   "cell_type": "code",
   "execution_count": 46,
   "metadata": {},
   "outputs": [],
   "source": [
    "np.random.seed(42)  # For the code to be reproducible\n",
    "\n",
    "df = generate_data()"
   ]
  },
  {
   "cell_type": "code",
   "execution_count": 49,
   "metadata": {},
   "outputs": [
    {
     "data": {
      "text/html": [
       "<div>\n",
       "<style scoped>\n",
       "    .dataframe tbody tr th:only-of-type {\n",
       "        vertical-align: middle;\n",
       "    }\n",
       "\n",
       "    .dataframe tbody tr th {\n",
       "        vertical-align: top;\n",
       "    }\n",
       "\n",
       "    .dataframe thead th {\n",
       "        text-align: right;\n",
       "    }\n",
       "</style>\n",
       "<table border=\"1\" class=\"dataframe\">\n",
       "  <thead>\n",
       "    <tr style=\"text-align: right;\">\n",
       "      <th></th>\n",
       "      <th>timestamp</th>\n",
       "      <th>user_id</th>\n",
       "      <th>platform</th>\n",
       "      <th>transaction_id</th>\n",
       "      <th>purchases</th>\n",
       "      <th>session_time</th>\n",
       "      <th>dtstring</th>\n",
       "    </tr>\n",
       "  </thead>\n",
       "  <tbody>\n",
       "    <tr>\n",
       "      <th>0</th>\n",
       "      <td>2023-01-02 09:52:38</td>\n",
       "      <td>2835593</td>\n",
       "      <td>Android</td>\n",
       "      <td>10063790287</td>\n",
       "      <td>1.99</td>\n",
       "      <td>4.93</td>\n",
       "      <td>20230102</td>\n",
       "    </tr>\n",
       "    <tr>\n",
       "      <th>1</th>\n",
       "      <td>2023-01-02 12:38:52</td>\n",
       "      <td>6680066</td>\n",
       "      <td>Android</td>\n",
       "      <td>10060916279</td>\n",
       "      <td>2.99</td>\n",
       "      <td>0.56</td>\n",
       "      <td>20230102</td>\n",
       "    </tr>\n",
       "    <tr>\n",
       "      <th>2</th>\n",
       "      <td>2023-01-05 05:37:18</td>\n",
       "      <td>8130325</td>\n",
       "      <td>Amazon</td>\n",
       "      <td>10122100727</td>\n",
       "      <td>2.99</td>\n",
       "      <td>7.04</td>\n",
       "      <td>20230105</td>\n",
       "    </tr>\n",
       "    <tr>\n",
       "      <th>3</th>\n",
       "      <td>2023-01-03 23:59:38</td>\n",
       "      <td>1359593</td>\n",
       "      <td>Android</td>\n",
       "      <td>10063851029</td>\n",
       "      <td>0.99</td>\n",
       "      <td>9.10</td>\n",
       "      <td>20230103</td>\n",
       "    </tr>\n",
       "    <tr>\n",
       "      <th>4</th>\n",
       "      <td>2023-01-02 06:37:48</td>\n",
       "      <td>9443113</td>\n",
       "      <td>Amazon</td>\n",
       "      <td>10077476400</td>\n",
       "      <td>5.99</td>\n",
       "      <td>9.59</td>\n",
       "      <td>20230102</td>\n",
       "    </tr>\n",
       "    <tr>\n",
       "      <th>...</th>\n",
       "      <td>...</td>\n",
       "      <td>...</td>\n",
       "      <td>...</td>\n",
       "      <td>...</td>\n",
       "      <td>...</td>\n",
       "      <td>...</td>\n",
       "      <td>...</td>\n",
       "    </tr>\n",
       "    <tr>\n",
       "      <th>999995</th>\n",
       "      <td>2023-01-07 13:23:00</td>\n",
       "      <td>7700528</td>\n",
       "      <td>iOS</td>\n",
       "      <td>10032616175</td>\n",
       "      <td>2.99</td>\n",
       "      <td>2.99</td>\n",
       "      <td>20230107</td>\n",
       "    </tr>\n",
       "    <tr>\n",
       "      <th>999996</th>\n",
       "      <td>2023-01-07 18:34:30</td>\n",
       "      <td>4498226</td>\n",
       "      <td>Android</td>\n",
       "      <td>10088295033</td>\n",
       "      <td>2.99</td>\n",
       "      <td>5.15</td>\n",
       "      <td>20230107</td>\n",
       "    </tr>\n",
       "    <tr>\n",
       "      <th>999997</th>\n",
       "      <td>2023-01-03 14:50:25</td>\n",
       "      <td>9066966</td>\n",
       "      <td>iOS</td>\n",
       "      <td>10094817932</td>\n",
       "      <td>9.99</td>\n",
       "      <td>4.42</td>\n",
       "      <td>20230103</td>\n",
       "    </tr>\n",
       "    <tr>\n",
       "      <th>999998</th>\n",
       "      <td>2023-01-02 14:54:36</td>\n",
       "      <td>5350617</td>\n",
       "      <td>iOS</td>\n",
       "      <td>10104146265</td>\n",
       "      <td>4.99</td>\n",
       "      <td>1.17</td>\n",
       "      <td>20230102</td>\n",
       "    </tr>\n",
       "    <tr>\n",
       "      <th>999999</th>\n",
       "      <td>2023-01-07 12:31:06</td>\n",
       "      <td>8598219</td>\n",
       "      <td>Android</td>\n",
       "      <td>10067436354</td>\n",
       "      <td>0.99</td>\n",
       "      <td>7.66</td>\n",
       "      <td>20230107</td>\n",
       "    </tr>\n",
       "  </tbody>\n",
       "</table>\n",
       "<p>1000000 rows × 7 columns</p>\n",
       "</div>"
      ],
      "text/plain": [
       "                  timestamp  user_id platform  transaction_id  purchases  \\\n",
       "0       2023-01-02 09:52:38  2835593  Android     10063790287       1.99   \n",
       "1       2023-01-02 12:38:52  6680066  Android     10060916279       2.99   \n",
       "2       2023-01-05 05:37:18  8130325   Amazon     10122100727       2.99   \n",
       "3       2023-01-03 23:59:38  1359593  Android     10063851029       0.99   \n",
       "4       2023-01-02 06:37:48  9443113   Amazon     10077476400       5.99   \n",
       "...                     ...      ...      ...             ...        ...   \n",
       "999995  2023-01-07 13:23:00  7700528      iOS     10032616175       2.99   \n",
       "999996  2023-01-07 18:34:30  4498226  Android     10088295033       2.99   \n",
       "999997  2023-01-03 14:50:25  9066966      iOS     10094817932       9.99   \n",
       "999998  2023-01-02 14:54:36  5350617      iOS     10104146265       4.99   \n",
       "999999  2023-01-07 12:31:06  8598219  Android     10067436354       0.99   \n",
       "\n",
       "        session_time  dtstring  \n",
       "0               4.93  20230102  \n",
       "1               0.56  20230102  \n",
       "2               7.04  20230105  \n",
       "3               9.10  20230103  \n",
       "4               9.59  20230102  \n",
       "...              ...       ...  \n",
       "999995          2.99  20230107  \n",
       "999996          5.15  20230107  \n",
       "999997          4.42  20230103  \n",
       "999998          1.17  20230102  \n",
       "999999          7.66  20230107  \n",
       "\n",
       "[1000000 rows x 7 columns]"
      ]
     },
     "execution_count": 49,
     "metadata": {},
     "output_type": "execute_result"
    }
   ],
   "source": [
    "df"
   ]
  },
  {
   "cell_type": "code",
   "execution_count": 6,
   "metadata": {},
   "outputs": [
    {
     "name": "stdout",
     "output_type": "stream",
     "text": [
      "<class 'pandas.core.frame.DataFrame'>\n",
      "RangeIndex: 1000000 entries, 0 to 999999\n",
      "Data columns (total 7 columns):\n",
      " #   Column          Non-Null Count    Dtype  \n",
      "---  ------          --------------    -----  \n",
      " 0   timestamp       1000000 non-null  object \n",
      " 1   user_id         1000000 non-null  int64  \n",
      " 2   platform        1000000 non-null  object \n",
      " 3   transaction_id  1000000 non-null  int64  \n",
      " 4   purchases       1000000 non-null  float64\n",
      " 5   session_time    1000000 non-null  float64\n",
      " 6   dtstring        1000000 non-null  object \n",
      "dtypes: float64(2), int64(2), object(3)\n",
      "memory usage: 53.4+ MB\n"
     ]
    }
   ],
   "source": [
    "df.info()"
   ]
  },
  {
   "cell_type": "markdown",
   "metadata": {},
   "source": [
    "---"
   ]
  },
  {
   "cell_type": "code",
   "execution_count": 7,
   "metadata": {},
   "outputs": [],
   "source": [
    "import os"
   ]
  },
  {
   "cell_type": "code",
   "execution_count": 5,
   "metadata": {},
   "outputs": [],
   "source": [
    "parquet_path = os.getcwd() + '/parquets'\n",
    "csv_path = os.getcwd() + '/my_data.csv'"
   ]
  },
  {
   "cell_type": "code",
   "execution_count": 105,
   "metadata": {},
   "outputs": [],
   "source": [
    "df.to_parquet(path=parquet_path, index=False, partition_cols=['dtstring'], compression='gzip',\n",
    "              use_legacy_dataset=True, partition_filename_cb=lambda x: '_'.join(x) + '.parquet')"
   ]
  },
  {
   "cell_type": "code",
   "execution_count": 44,
   "metadata": {},
   "outputs": [],
   "source": [
    "df.to_csv(csv_path, index=False)"
   ]
  },
  {
   "cell_type": "markdown",
   "metadata": {},
   "source": [
    "---"
   ]
  },
  {
   "cell_type": "markdown",
   "metadata": {},
   "source": [
    "### Size comparison csv vs parquet"
   ]
  },
  {
   "cell_type": "code",
   "execution_count": 16,
   "metadata": {},
   "outputs": [],
   "source": [
    "def size_mb(size_bytes):\n",
    "    size_in_gb = round(size_bytes / 1024**2, 2)\n",
    "    print(size_in_gb, 'MB')"
   ]
  },
  {
   "cell_type": "markdown",
   "metadata": {},
   "source": [
    "**CSV:**"
   ]
  },
  {
   "cell_type": "code",
   "execution_count": 17,
   "metadata": {},
   "outputs": [],
   "source": [
    "size_csv = os.path.getsize(csv_path)"
   ]
  },
  {
   "cell_type": "code",
   "execution_count": 18,
   "metadata": {},
   "outputs": [
    {
     "name": "stdout",
     "output_type": "stream",
     "text": [
      "62.05 MB\n"
     ]
    }
   ],
   "source": [
    "size_mb(size_csv)"
   ]
  },
  {
   "cell_type": "markdown",
   "metadata": {},
   "source": [
    "**Parquet:**"
   ]
  },
  {
   "cell_type": "code",
   "execution_count": 19,
   "metadata": {},
   "outputs": [],
   "source": [
    "total_size_parquet = 0\n",
    "for folder in os.listdir(parquet_path):\n",
    "    for file in os.listdir('/'.join([parquet_path, folder])):\n",
    "        if '.parquet' in file:\n",
    "            total_size_parquet += os.path.getsize('/'.join([parquet_path, folder, file]))"
   ]
  },
  {
   "cell_type": "code",
   "execution_count": 20,
   "metadata": {},
   "outputs": [
    {
     "name": "stdout",
     "output_type": "stream",
     "text": [
      "17.16 MB\n"
     ]
    }
   ],
   "source": [
    "size_mb(total_size_parquet)"
   ]
  },
  {
   "cell_type": "markdown",
   "metadata": {},
   "source": [
    "---"
   ]
  },
  {
   "cell_type": "markdown",
   "metadata": {},
   "source": [
    "### Comparison of reading data from csv vs parquet"
   ]
  },
  {
   "cell_type": "markdown",
   "metadata": {},
   "source": [
    "Open a csv file"
   ]
  },
  {
   "cell_type": "code",
   "execution_count": 51,
   "metadata": {},
   "outputs": [
    {
     "name": "stdout",
     "output_type": "stream",
     "text": [
      "CPU times: user 3.47 s, sys: 148 ms, total: 3.62 s\n",
      "Wall time: 3.65 s\n"
     ]
    },
    {
     "data": {
      "text/html": [
       "<div>\n",
       "<style scoped>\n",
       "    .dataframe tbody tr th:only-of-type {\n",
       "        vertical-align: middle;\n",
       "    }\n",
       "\n",
       "    .dataframe tbody tr th {\n",
       "        vertical-align: top;\n",
       "    }\n",
       "\n",
       "    .dataframe thead th {\n",
       "        text-align: right;\n",
       "    }\n",
       "</style>\n",
       "<table border=\"1\" class=\"dataframe\">\n",
       "  <thead>\n",
       "    <tr style=\"text-align: right;\">\n",
       "      <th></th>\n",
       "      <th>timestamp</th>\n",
       "      <th>user_id</th>\n",
       "      <th>platform</th>\n",
       "      <th>transaction_id</th>\n",
       "      <th>purchases</th>\n",
       "      <th>session_time</th>\n",
       "      <th>dtstring</th>\n",
       "    </tr>\n",
       "  </thead>\n",
       "  <tbody>\n",
       "    <tr>\n",
       "      <th>767140</th>\n",
       "      <td>2023-01-01 00:00:00</td>\n",
       "      <td>1420129</td>\n",
       "      <td>iOS</td>\n",
       "      <td>10110867501</td>\n",
       "      <td>3.99</td>\n",
       "      <td>0.49</td>\n",
       "      <td>20230101</td>\n",
       "    </tr>\n",
       "    <tr>\n",
       "      <th>141037</th>\n",
       "      <td>2023-01-01 00:00:01</td>\n",
       "      <td>9471506</td>\n",
       "      <td>Android</td>\n",
       "      <td>10066668058</td>\n",
       "      <td>1.99</td>\n",
       "      <td>9.98</td>\n",
       "      <td>20230101</td>\n",
       "    </tr>\n",
       "    <tr>\n",
       "      <th>927430</th>\n",
       "      <td>2023-01-01 00:00:01</td>\n",
       "      <td>4003934</td>\n",
       "      <td>Android</td>\n",
       "      <td>10071966072</td>\n",
       "      <td>5.99</td>\n",
       "      <td>9.40</td>\n",
       "      <td>20230101</td>\n",
       "    </tr>\n",
       "    <tr>\n",
       "      <th>754232</th>\n",
       "      <td>2023-01-01 00:00:01</td>\n",
       "      <td>5927031</td>\n",
       "      <td>Android</td>\n",
       "      <td>10059370637</td>\n",
       "      <td>5.99</td>\n",
       "      <td>1.15</td>\n",
       "      <td>20230101</td>\n",
       "    </tr>\n",
       "    <tr>\n",
       "      <th>624536</th>\n",
       "      <td>2023-01-01 00:00:03</td>\n",
       "      <td>9911830</td>\n",
       "      <td>iOS</td>\n",
       "      <td>10086163141</td>\n",
       "      <td>2.99</td>\n",
       "      <td>1.63</td>\n",
       "      <td>20230101</td>\n",
       "    </tr>\n",
       "    <tr>\n",
       "      <th>...</th>\n",
       "      <td>...</td>\n",
       "      <td>...</td>\n",
       "      <td>...</td>\n",
       "      <td>...</td>\n",
       "      <td>...</td>\n",
       "      <td>...</td>\n",
       "      <td>...</td>\n",
       "    </tr>\n",
       "    <tr>\n",
       "      <th>82515</th>\n",
       "      <td>2023-01-07 22:59:58</td>\n",
       "      <td>3370924</td>\n",
       "      <td>iOS</td>\n",
       "      <td>10101966229</td>\n",
       "      <td>9.99</td>\n",
       "      <td>1.06</td>\n",
       "      <td>20230107</td>\n",
       "    </tr>\n",
       "    <tr>\n",
       "      <th>246825</th>\n",
       "      <td>2023-01-07 22:59:59</td>\n",
       "      <td>9646512</td>\n",
       "      <td>Android</td>\n",
       "      <td>10048628637</td>\n",
       "      <td>1.99</td>\n",
       "      <td>2.00</td>\n",
       "      <td>20230107</td>\n",
       "    </tr>\n",
       "    <tr>\n",
       "      <th>925057</th>\n",
       "      <td>2023-01-07 22:59:59</td>\n",
       "      <td>9094269</td>\n",
       "      <td>iOS</td>\n",
       "      <td>10080487051</td>\n",
       "      <td>1.99</td>\n",
       "      <td>1.08</td>\n",
       "      <td>20230107</td>\n",
       "    </tr>\n",
       "    <tr>\n",
       "      <th>451832</th>\n",
       "      <td>2023-01-07 22:59:59</td>\n",
       "      <td>3069866</td>\n",
       "      <td>iOS</td>\n",
       "      <td>10083839209</td>\n",
       "      <td>5.99</td>\n",
       "      <td>8.47</td>\n",
       "      <td>20230107</td>\n",
       "    </tr>\n",
       "    <tr>\n",
       "      <th>946060</th>\n",
       "      <td>2023-01-07 22:59:59</td>\n",
       "      <td>4289589</td>\n",
       "      <td>iOS</td>\n",
       "      <td>10109702386</td>\n",
       "      <td>0.99</td>\n",
       "      <td>5.23</td>\n",
       "      <td>20230107</td>\n",
       "    </tr>\n",
       "  </tbody>\n",
       "</table>\n",
       "<p>1000000 rows × 7 columns</p>\n",
       "</div>"
      ],
      "text/plain": [
       "                  timestamp  user_id platform  transaction_id  purchases  \\\n",
       "767140  2023-01-01 00:00:00  1420129      iOS     10110867501       3.99   \n",
       "141037  2023-01-01 00:00:01  9471506  Android     10066668058       1.99   \n",
       "927430  2023-01-01 00:00:01  4003934  Android     10071966072       5.99   \n",
       "754232  2023-01-01 00:00:01  5927031  Android     10059370637       5.99   \n",
       "624536  2023-01-01 00:00:03  9911830      iOS     10086163141       2.99   \n",
       "...                     ...      ...      ...             ...        ...   \n",
       "82515   2023-01-07 22:59:58  3370924      iOS     10101966229       9.99   \n",
       "246825  2023-01-07 22:59:59  9646512  Android     10048628637       1.99   \n",
       "925057  2023-01-07 22:59:59  9094269      iOS     10080487051       1.99   \n",
       "451832  2023-01-07 22:59:59  3069866      iOS     10083839209       5.99   \n",
       "946060  2023-01-07 22:59:59  4289589      iOS     10109702386       0.99   \n",
       "\n",
       "        session_time  dtstring  \n",
       "767140          0.49  20230101  \n",
       "141037          9.98  20230101  \n",
       "927430          9.40  20230101  \n",
       "754232          1.15  20230101  \n",
       "624536          1.63  20230101  \n",
       "...              ...       ...  \n",
       "82515           1.06  20230107  \n",
       "246825          2.00  20230107  \n",
       "925057          1.08  20230107  \n",
       "451832          8.47  20230107  \n",
       "946060          5.23  20230107  \n",
       "\n",
       "[1000000 rows x 7 columns]"
      ]
     },
     "execution_count": 51,
     "metadata": {},
     "output_type": "execute_result"
    }
   ],
   "source": [
    "%%time\n",
    "\n",
    "pd.read_csv(csv_path)"
   ]
  },
  {
   "cell_type": "markdown",
   "metadata": {},
   "source": [
    "Open a parquet file"
   ]
  },
  {
   "cell_type": "code",
   "execution_count": 159,
   "metadata": {},
   "outputs": [
    {
     "name": "stdout",
     "output_type": "stream",
     "text": [
      "CPU times: user 554 ms, sys: 212 ms, total: 765 ms\n",
      "Wall time: 402 ms\n"
     ]
    },
    {
     "data": {
      "text/html": [
       "<div>\n",
       "<style scoped>\n",
       "    .dataframe tbody tr th:only-of-type {\n",
       "        vertical-align: middle;\n",
       "    }\n",
       "\n",
       "    .dataframe tbody tr th {\n",
       "        vertical-align: top;\n",
       "    }\n",
       "\n",
       "    .dataframe thead th {\n",
       "        text-align: right;\n",
       "    }\n",
       "</style>\n",
       "<table border=\"1\" class=\"dataframe\">\n",
       "  <thead>\n",
       "    <tr style=\"text-align: right;\">\n",
       "      <th></th>\n",
       "      <th>timestamp</th>\n",
       "      <th>user_id</th>\n",
       "      <th>platform</th>\n",
       "      <th>transaction_id</th>\n",
       "      <th>purchases</th>\n",
       "      <th>session_time</th>\n",
       "      <th>dtstring</th>\n",
       "    </tr>\n",
       "  </thead>\n",
       "  <tbody>\n",
       "    <tr>\n",
       "      <th>0</th>\n",
       "      <td>2023-01-01 15:14:46</td>\n",
       "      <td>8091778</td>\n",
       "      <td>iOS</td>\n",
       "      <td>10016276618</td>\n",
       "      <td>1.99</td>\n",
       "      <td>9.40</td>\n",
       "      <td>20230101</td>\n",
       "    </tr>\n",
       "    <tr>\n",
       "      <th>1</th>\n",
       "      <td>2023-01-01 11:24:50</td>\n",
       "      <td>9450006</td>\n",
       "      <td>Android</td>\n",
       "      <td>10006525813</td>\n",
       "      <td>1.99</td>\n",
       "      <td>9.39</td>\n",
       "      <td>20230101</td>\n",
       "    </tr>\n",
       "    <tr>\n",
       "      <th>2</th>\n",
       "      <td>2023-01-01 18:00:20</td>\n",
       "      <td>1047741</td>\n",
       "      <td>Android</td>\n",
       "      <td>10018949892</td>\n",
       "      <td>0.99</td>\n",
       "      <td>5.73</td>\n",
       "      <td>20230101</td>\n",
       "    </tr>\n",
       "    <tr>\n",
       "      <th>3</th>\n",
       "      <td>2023-01-01 18:15:25</td>\n",
       "      <td>5798766</td>\n",
       "      <td>iOS</td>\n",
       "      <td>10035565251</td>\n",
       "      <td>1.99</td>\n",
       "      <td>8.54</td>\n",
       "      <td>20230101</td>\n",
       "    </tr>\n",
       "    <tr>\n",
       "      <th>4</th>\n",
       "      <td>2023-01-01 23:30:54</td>\n",
       "      <td>3044111</td>\n",
       "      <td>Android</td>\n",
       "      <td>10021052651</td>\n",
       "      <td>1.99</td>\n",
       "      <td>1.93</td>\n",
       "      <td>20230101</td>\n",
       "    </tr>\n",
       "    <tr>\n",
       "      <th>...</th>\n",
       "      <td>...</td>\n",
       "      <td>...</td>\n",
       "      <td>...</td>\n",
       "      <td>...</td>\n",
       "      <td>...</td>\n",
       "      <td>...</td>\n",
       "      <td>...</td>\n",
       "    </tr>\n",
       "    <tr>\n",
       "      <th>999995</th>\n",
       "      <td>2023-01-07 00:41:22</td>\n",
       "      <td>1278663</td>\n",
       "      <td>Android</td>\n",
       "      <td>10121537471</td>\n",
       "      <td>2.99</td>\n",
       "      <td>7.74</td>\n",
       "      <td>20230107</td>\n",
       "    </tr>\n",
       "    <tr>\n",
       "      <th>999996</th>\n",
       "      <td>2023-01-07 19:40:22</td>\n",
       "      <td>8098390</td>\n",
       "      <td>Android</td>\n",
       "      <td>10033032840</td>\n",
       "      <td>0.99</td>\n",
       "      <td>3.79</td>\n",
       "      <td>20230107</td>\n",
       "    </tr>\n",
       "    <tr>\n",
       "      <th>999997</th>\n",
       "      <td>2023-01-07 13:23:00</td>\n",
       "      <td>7700528</td>\n",
       "      <td>iOS</td>\n",
       "      <td>10032616175</td>\n",
       "      <td>2.99</td>\n",
       "      <td>2.99</td>\n",
       "      <td>20230107</td>\n",
       "    </tr>\n",
       "    <tr>\n",
       "      <th>999998</th>\n",
       "      <td>2023-01-07 18:34:30</td>\n",
       "      <td>4498226</td>\n",
       "      <td>Android</td>\n",
       "      <td>10088295033</td>\n",
       "      <td>2.99</td>\n",
       "      <td>5.15</td>\n",
       "      <td>20230107</td>\n",
       "    </tr>\n",
       "    <tr>\n",
       "      <th>999999</th>\n",
       "      <td>2023-01-07 12:31:06</td>\n",
       "      <td>8598219</td>\n",
       "      <td>Android</td>\n",
       "      <td>10067436354</td>\n",
       "      <td>0.99</td>\n",
       "      <td>7.66</td>\n",
       "      <td>20230107</td>\n",
       "    </tr>\n",
       "  </tbody>\n",
       "</table>\n",
       "<p>1000000 rows × 7 columns</p>\n",
       "</div>"
      ],
      "text/plain": [
       "                  timestamp  user_id platform  transaction_id  purchases  \\\n",
       "0       2023-01-01 15:14:46  8091778      iOS     10016276618       1.99   \n",
       "1       2023-01-01 11:24:50  9450006  Android     10006525813       1.99   \n",
       "2       2023-01-01 18:00:20  1047741  Android     10018949892       0.99   \n",
       "3       2023-01-01 18:15:25  5798766      iOS     10035565251       1.99   \n",
       "4       2023-01-01 23:30:54  3044111  Android     10021052651       1.99   \n",
       "...                     ...      ...      ...             ...        ...   \n",
       "999995  2023-01-07 00:41:22  1278663  Android     10121537471       2.99   \n",
       "999996  2023-01-07 19:40:22  8098390  Android     10033032840       0.99   \n",
       "999997  2023-01-07 13:23:00  7700528      iOS     10032616175       2.99   \n",
       "999998  2023-01-07 18:34:30  4498226  Android     10088295033       2.99   \n",
       "999999  2023-01-07 12:31:06  8598219  Android     10067436354       0.99   \n",
       "\n",
       "        session_time  dtstring  \n",
       "0               9.40  20230101  \n",
       "1               9.39  20230101  \n",
       "2               5.73  20230101  \n",
       "3               8.54  20230101  \n",
       "4               1.93  20230101  \n",
       "...              ...       ...  \n",
       "999995          7.74  20230107  \n",
       "999996          3.79  20230107  \n",
       "999997          2.99  20230107  \n",
       "999998          5.15  20230107  \n",
       "999999          7.66  20230107  \n",
       "\n",
       "[1000000 rows x 7 columns]"
      ]
     },
     "execution_count": 159,
     "metadata": {},
     "output_type": "execute_result"
    }
   ],
   "source": [
    "%%time\n",
    "\n",
    "pd.read_parquet(path=parquet_path)"
   ]
  },
  {
   "cell_type": "markdown",
   "metadata": {},
   "source": [
    "---"
   ]
  },
  {
   "cell_type": "markdown",
   "metadata": {},
   "source": [
    "For the following questions:\n",
    "\n",
    "Use the %%time magic command, timeit module or other benchmarking tools to measure the difference in performance."
   ]
  },
  {
   "cell_type": "markdown",
   "metadata": {},
   "source": [
    "Your code output will be with different values from the output cells, they exists as a reference.<br>\n",
    "Be careful not to run the output cell (the output will disapper)."
   ]
  },
  {
   "cell_type": "markdown",
   "metadata": {},
   "source": [
    "## Question 1 (Columnar Storage):"
   ]
  },
  {
   "cell_type": "markdown",
   "metadata": {},
   "source": [
    "Fetch and display only the purchases column and compare the performance of csv vs parquet.<br>\n",
    "\n",
    "*HINT: Take advantage of the parquet's columnar architecture*"
   ]
  },
  {
   "cell_type": "markdown",
   "metadata": {},
   "source": [
    "**CSV:**"
   ]
  },
  {
   "cell_type": "code",
   "execution_count": 37,
   "metadata": {},
   "outputs": [
    {
     "name": "stdout",
     "output_type": "stream",
     "text": [
      "CPU times: user 279 ms, sys: 44.6 ms, total: 323 ms\n",
      "Wall time: 325 ms\n"
     ]
    },
    {
     "data": {
      "text/html": [
       "<div>\n",
       "<style scoped>\n",
       "    .dataframe tbody tr th:only-of-type {\n",
       "        vertical-align: middle;\n",
       "    }\n",
       "\n",
       "    .dataframe tbody tr th {\n",
       "        vertical-align: top;\n",
       "    }\n",
       "\n",
       "    .dataframe thead th {\n",
       "        text-align: right;\n",
       "    }\n",
       "</style>\n",
       "<table border=\"1\" class=\"dataframe\">\n",
       "  <thead>\n",
       "    <tr style=\"text-align: right;\">\n",
       "      <th></th>\n",
       "      <th>purchases</th>\n",
       "    </tr>\n",
       "  </thead>\n",
       "  <tbody>\n",
       "    <tr>\n",
       "      <th>0</th>\n",
       "      <td>1.99</td>\n",
       "    </tr>\n",
       "    <tr>\n",
       "      <th>1</th>\n",
       "      <td>2.99</td>\n",
       "    </tr>\n",
       "    <tr>\n",
       "      <th>2</th>\n",
       "      <td>2.99</td>\n",
       "    </tr>\n",
       "    <tr>\n",
       "      <th>3</th>\n",
       "      <td>0.99</td>\n",
       "    </tr>\n",
       "    <tr>\n",
       "      <th>4</th>\n",
       "      <td>5.99</td>\n",
       "    </tr>\n",
       "    <tr>\n",
       "      <th>...</th>\n",
       "      <td>...</td>\n",
       "    </tr>\n",
       "    <tr>\n",
       "      <th>999995</th>\n",
       "      <td>2.99</td>\n",
       "    </tr>\n",
       "    <tr>\n",
       "      <th>999996</th>\n",
       "      <td>2.99</td>\n",
       "    </tr>\n",
       "    <tr>\n",
       "      <th>999997</th>\n",
       "      <td>9.99</td>\n",
       "    </tr>\n",
       "    <tr>\n",
       "      <th>999998</th>\n",
       "      <td>4.99</td>\n",
       "    </tr>\n",
       "    <tr>\n",
       "      <th>999999</th>\n",
       "      <td>0.99</td>\n",
       "    </tr>\n",
       "  </tbody>\n",
       "</table>\n",
       "<p>1000000 rows × 1 columns</p>\n",
       "</div>"
      ],
      "text/plain": [
       "        purchases\n",
       "0            1.99\n",
       "1            2.99\n",
       "2            2.99\n",
       "3            0.99\n",
       "4            5.99\n",
       "...           ...\n",
       "999995       2.99\n",
       "999996       2.99\n",
       "999997       9.99\n",
       "999998       4.99\n",
       "999999       0.99\n",
       "\n",
       "[1000000 rows x 1 columns]"
      ]
     },
     "execution_count": 37,
     "metadata": {},
     "output_type": "execute_result"
    }
   ],
   "source": [
    "%%time\n",
    "# YOUR CODE\n",
    "pd.read_csv(csv_path, usecols=['purchases'])"
   ]
  },
  {
   "cell_type": "code",
   "execution_count": 19,
   "metadata": {},
   "outputs": [
    {
     "name": "stdout",
     "output_type": "stream",
     "text": [
      "CPU times: user 811 ms, sys: 100 ms, total: 912 ms\n",
      "Wall time: 911 ms\n"
     ]
    },
    {
     "data": {
      "text/html": [
       "<div>\n",
       "<style scoped>\n",
       "    .dataframe tbody tr th:only-of-type {\n",
       "        vertical-align: middle;\n",
       "    }\n",
       "\n",
       "    .dataframe tbody tr th {\n",
       "        vertical-align: top;\n",
       "    }\n",
       "\n",
       "    .dataframe thead th {\n",
       "        text-align: right;\n",
       "    }\n",
       "</style>\n",
       "<table border=\"1\" class=\"dataframe\">\n",
       "  <thead>\n",
       "    <tr style=\"text-align: right;\">\n",
       "      <th></th>\n",
       "      <th>purchases</th>\n",
       "    </tr>\n",
       "  </thead>\n",
       "  <tbody>\n",
       "    <tr>\n",
       "      <th>0</th>\n",
       "      <td>1.99</td>\n",
       "    </tr>\n",
       "    <tr>\n",
       "      <th>1</th>\n",
       "      <td>3.99</td>\n",
       "    </tr>\n",
       "    <tr>\n",
       "      <th>2</th>\n",
       "      <td>2.99</td>\n",
       "    </tr>\n",
       "    <tr>\n",
       "      <th>3</th>\n",
       "      <td>2.99</td>\n",
       "    </tr>\n",
       "    <tr>\n",
       "      <th>4</th>\n",
       "      <td>1.99</td>\n",
       "    </tr>\n",
       "    <tr>\n",
       "      <th>...</th>\n",
       "      <td>...</td>\n",
       "    </tr>\n",
       "    <tr>\n",
       "      <th>999995</th>\n",
       "      <td>1.99</td>\n",
       "    </tr>\n",
       "    <tr>\n",
       "      <th>999996</th>\n",
       "      <td>2.99</td>\n",
       "    </tr>\n",
       "    <tr>\n",
       "      <th>999997</th>\n",
       "      <td>0.99</td>\n",
       "    </tr>\n",
       "    <tr>\n",
       "      <th>999998</th>\n",
       "      <td>1.99</td>\n",
       "    </tr>\n",
       "    <tr>\n",
       "      <th>999999</th>\n",
       "      <td>2.99</td>\n",
       "    </tr>\n",
       "  </tbody>\n",
       "</table>\n",
       "<p>1000000 rows × 1 columns</p>\n",
       "</div>"
      ],
      "text/plain": [
       "        purchases\n",
       "0            1.99\n",
       "1            3.99\n",
       "2            2.99\n",
       "3            2.99\n",
       "4            1.99\n",
       "...           ...\n",
       "999995       1.99\n",
       "999996       2.99\n",
       "999997       0.99\n",
       "999998       1.99\n",
       "999999       2.99\n",
       "\n",
       "[1000000 rows x 1 columns]"
      ]
     },
     "execution_count": 19,
     "metadata": {},
     "output_type": "execute_result"
    }
   ],
   "source": [
    "## REQUIRED OUTPUT"
   ]
  },
  {
   "cell_type": "markdown",
   "metadata": {},
   "source": [
    "**Parquet:**"
   ]
  },
  {
   "cell_type": "code",
   "execution_count": 8,
   "metadata": {},
   "outputs": [
    {
     "name": "stdout",
     "output_type": "stream",
     "text": [
      "CPU times: user 19.5 ms, sys: 15.4 ms, total: 34.9 ms\n",
      "Wall time: 30.9 ms\n"
     ]
    },
    {
     "data": {
      "text/html": [
       "<div>\n",
       "<style scoped>\n",
       "    .dataframe tbody tr th:only-of-type {\n",
       "        vertical-align: middle;\n",
       "    }\n",
       "\n",
       "    .dataframe tbody tr th {\n",
       "        vertical-align: top;\n",
       "    }\n",
       "\n",
       "    .dataframe thead th {\n",
       "        text-align: right;\n",
       "    }\n",
       "</style>\n",
       "<table border=\"1\" class=\"dataframe\">\n",
       "  <thead>\n",
       "    <tr style=\"text-align: right;\">\n",
       "      <th></th>\n",
       "      <th>purchases</th>\n",
       "    </tr>\n",
       "  </thead>\n",
       "  <tbody>\n",
       "    <tr>\n",
       "      <th>0</th>\n",
       "      <td>1.99</td>\n",
       "    </tr>\n",
       "    <tr>\n",
       "      <th>1</th>\n",
       "      <td>1.99</td>\n",
       "    </tr>\n",
       "    <tr>\n",
       "      <th>2</th>\n",
       "      <td>0.99</td>\n",
       "    </tr>\n",
       "    <tr>\n",
       "      <th>3</th>\n",
       "      <td>1.99</td>\n",
       "    </tr>\n",
       "    <tr>\n",
       "      <th>4</th>\n",
       "      <td>1.99</td>\n",
       "    </tr>\n",
       "    <tr>\n",
       "      <th>...</th>\n",
       "      <td>...</td>\n",
       "    </tr>\n",
       "    <tr>\n",
       "      <th>999995</th>\n",
       "      <td>2.99</td>\n",
       "    </tr>\n",
       "    <tr>\n",
       "      <th>999996</th>\n",
       "      <td>0.99</td>\n",
       "    </tr>\n",
       "    <tr>\n",
       "      <th>999997</th>\n",
       "      <td>2.99</td>\n",
       "    </tr>\n",
       "    <tr>\n",
       "      <th>999998</th>\n",
       "      <td>2.99</td>\n",
       "    </tr>\n",
       "    <tr>\n",
       "      <th>999999</th>\n",
       "      <td>0.99</td>\n",
       "    </tr>\n",
       "  </tbody>\n",
       "</table>\n",
       "<p>1000000 rows × 1 columns</p>\n",
       "</div>"
      ],
      "text/plain": [
       "        purchases\n",
       "0            1.99\n",
       "1            1.99\n",
       "2            0.99\n",
       "3            1.99\n",
       "4            1.99\n",
       "...           ...\n",
       "999995       2.99\n",
       "999996       0.99\n",
       "999997       2.99\n",
       "999998       2.99\n",
       "999999       0.99\n",
       "\n",
       "[1000000 rows x 1 columns]"
      ]
     },
     "execution_count": 8,
     "metadata": {},
     "output_type": "execute_result"
    }
   ],
   "source": [
    "%%time\n",
    "# YOUR CODE\n",
    "pd.read_parquet(path=parquet_path, columns=['purchases'])"
   ]
  },
  {
   "cell_type": "code",
   "execution_count": 20,
   "metadata": {},
   "outputs": [
    {
     "name": "stdout",
     "output_type": "stream",
     "text": [
      "CPU times: user 16 ms, sys: 11.9 ms, total: 27.8 ms\n",
      "Wall time: 14.7 ms\n"
     ]
    },
    {
     "data": {
      "text/html": [
       "<div>\n",
       "<style scoped>\n",
       "    .dataframe tbody tr th:only-of-type {\n",
       "        vertical-align: middle;\n",
       "    }\n",
       "\n",
       "    .dataframe tbody tr th {\n",
       "        vertical-align: top;\n",
       "    }\n",
       "\n",
       "    .dataframe thead th {\n",
       "        text-align: right;\n",
       "    }\n",
       "</style>\n",
       "<table border=\"1\" class=\"dataframe\">\n",
       "  <thead>\n",
       "    <tr style=\"text-align: right;\">\n",
       "      <th></th>\n",
       "      <th>purchases</th>\n",
       "    </tr>\n",
       "  </thead>\n",
       "  <tbody>\n",
       "    <tr>\n",
       "      <th>0</th>\n",
       "      <td>19.99</td>\n",
       "    </tr>\n",
       "    <tr>\n",
       "      <th>1</th>\n",
       "      <td>0.99</td>\n",
       "    </tr>\n",
       "    <tr>\n",
       "      <th>2</th>\n",
       "      <td>9.99</td>\n",
       "    </tr>\n",
       "    <tr>\n",
       "      <th>3</th>\n",
       "      <td>0.99</td>\n",
       "    </tr>\n",
       "    <tr>\n",
       "      <th>4</th>\n",
       "      <td>1.99</td>\n",
       "    </tr>\n",
       "    <tr>\n",
       "      <th>...</th>\n",
       "      <td>...</td>\n",
       "    </tr>\n",
       "    <tr>\n",
       "      <th>999995</th>\n",
       "      <td>2.99</td>\n",
       "    </tr>\n",
       "    <tr>\n",
       "      <th>999996</th>\n",
       "      <td>2.99</td>\n",
       "    </tr>\n",
       "    <tr>\n",
       "      <th>999997</th>\n",
       "      <td>1.99</td>\n",
       "    </tr>\n",
       "    <tr>\n",
       "      <th>999998</th>\n",
       "      <td>2.99</td>\n",
       "    </tr>\n",
       "    <tr>\n",
       "      <th>999999</th>\n",
       "      <td>2.99</td>\n",
       "    </tr>\n",
       "  </tbody>\n",
       "</table>\n",
       "<p>1000000 rows × 1 columns</p>\n",
       "</div>"
      ],
      "text/plain": [
       "        purchases\n",
       "0           19.99\n",
       "1            0.99\n",
       "2            9.99\n",
       "3            0.99\n",
       "4            1.99\n",
       "...           ...\n",
       "999995       2.99\n",
       "999996       2.99\n",
       "999997       1.99\n",
       "999998       2.99\n",
       "999999       2.99\n",
       "\n",
       "[1000000 rows x 1 columns]"
      ]
     },
     "execution_count": 20,
     "metadata": {},
     "output_type": "execute_result"
    }
   ],
   "source": [
    "## REQUIRED OUTPUT"
   ]
  },
  {
   "cell_type": "markdown",
   "metadata": {},
   "source": [
    "---"
   ]
  },
  {
   "cell_type": "markdown",
   "metadata": {},
   "source": [
    "## Question 2 (Predicate Pushdown):"
   ]
  },
  {
   "cell_type": "markdown",
   "metadata": {},
   "source": [
    "Fetch and display only the purchases column (as in question 1), but only for the first day of the year.<br>\n",
    "Compare the performance of csv vs parquet.<br>\n",
    "\n",
    "*HINT: Take advantage of the parquet's predicate pushdown capability*"
   ]
  },
  {
   "cell_type": "code",
   "execution_count": 4,
   "id": "012eb117",
   "metadata": {},
   "outputs": [],
   "source": [
    "from datetime import date"
   ]
  },
  {
   "cell_type": "markdown",
   "id": "98a2ffab",
   "metadata": {},
   "source": [
    "**CSV:**"
   ]
  },
  {
   "cell_type": "code",
   "execution_count": 6,
   "metadata": {},
   "outputs": [
    {
     "name": "stdout",
     "output_type": "stream",
     "text": [
      "CPU times: user 2 µs, sys: 0 ns, total: 2 µs\n",
      "Wall time: 5.01 µs\n"
     ]
    },
    {
     "data": {
      "text/html": [
       "<div>\n",
       "<style scoped>\n",
       "    .dataframe tbody tr th:only-of-type {\n",
       "        vertical-align: middle;\n",
       "    }\n",
       "\n",
       "    .dataframe tbody tr th {\n",
       "        vertical-align: top;\n",
       "    }\n",
       "\n",
       "    .dataframe thead th {\n",
       "        text-align: right;\n",
       "    }\n",
       "</style>\n",
       "<table border=\"1\" class=\"dataframe\">\n",
       "  <thead>\n",
       "    <tr style=\"text-align: right;\">\n",
       "      <th></th>\n",
       "      <th>purchases</th>\n",
       "    </tr>\n",
       "  </thead>\n",
       "  <tbody>\n",
       "    <tr>\n",
       "      <th>5</th>\n",
       "      <td>1.99</td>\n",
       "    </tr>\n",
       "    <tr>\n",
       "      <th>12</th>\n",
       "      <td>1.99</td>\n",
       "    </tr>\n",
       "    <tr>\n",
       "      <th>14</th>\n",
       "      <td>0.99</td>\n",
       "    </tr>\n",
       "    <tr>\n",
       "      <th>32</th>\n",
       "      <td>1.99</td>\n",
       "    </tr>\n",
       "    <tr>\n",
       "      <th>34</th>\n",
       "      <td>1.99</td>\n",
       "    </tr>\n",
       "    <tr>\n",
       "      <th>...</th>\n",
       "      <td>...</td>\n",
       "    </tr>\n",
       "    <tr>\n",
       "      <th>999969</th>\n",
       "      <td>1.99</td>\n",
       "    </tr>\n",
       "    <tr>\n",
       "      <th>999971</th>\n",
       "      <td>2.99</td>\n",
       "    </tr>\n",
       "    <tr>\n",
       "      <th>999975</th>\n",
       "      <td>1.99</td>\n",
       "    </tr>\n",
       "    <tr>\n",
       "      <th>999987</th>\n",
       "      <td>2.99</td>\n",
       "    </tr>\n",
       "    <tr>\n",
       "      <th>999988</th>\n",
       "      <td>9.99</td>\n",
       "    </tr>\n",
       "  </tbody>\n",
       "</table>\n",
       "<p>144516 rows × 1 columns</p>\n",
       "</div>"
      ],
      "text/plain": [
       "        purchases\n",
       "5            1.99\n",
       "12           1.99\n",
       "14           0.99\n",
       "32           1.99\n",
       "34           1.99\n",
       "...           ...\n",
       "999969       1.99\n",
       "999971       2.99\n",
       "999975       1.99\n",
       "999987       2.99\n",
       "999988       9.99\n",
       "\n",
       "[144516 rows x 1 columns]"
      ]
     },
     "execution_count": 6,
     "metadata": {},
     "output_type": "execute_result"
    }
   ],
   "source": [
    "%time\n",
    "# YOUR CODE\n",
    "df_csv = pd.read_csv(csv_path, usecols=['purchases', 'dtstring'], parse_dates=['dtstring'])\n",
    "\n",
    "# Filter the dataframe to include only the first day of the year\n",
    "df_csv[df_csv['dtstring'].dt.date == date(2023, 1, 1)][['purchases']]\n"
   ]
  },
  {
   "cell_type": "code",
   "execution_count": 21,
   "metadata": {},
   "outputs": [
    {
     "name": "stdout",
     "output_type": "stream",
     "text": [
      "CPU times: user 818 ms, sys: 115 ms, total: 933 ms\n",
      "Wall time: 933 ms\n"
     ]
    },
    {
     "data": {
      "text/html": [
       "<div>\n",
       "<style scoped>\n",
       "    .dataframe tbody tr th:only-of-type {\n",
       "        vertical-align: middle;\n",
       "    }\n",
       "\n",
       "    .dataframe tbody tr th {\n",
       "        vertical-align: top;\n",
       "    }\n",
       "\n",
       "    .dataframe thead th {\n",
       "        text-align: right;\n",
       "    }\n",
       "</style>\n",
       "<table border=\"1\" class=\"dataframe\">\n",
       "  <thead>\n",
       "    <tr style=\"text-align: right;\">\n",
       "      <th></th>\n",
       "      <th>purchases</th>\n",
       "    </tr>\n",
       "  </thead>\n",
       "  <tbody>\n",
       "    <tr>\n",
       "      <th>5</th>\n",
       "      <td>19.99</td>\n",
       "    </tr>\n",
       "    <tr>\n",
       "      <th>12</th>\n",
       "      <td>0.99</td>\n",
       "    </tr>\n",
       "    <tr>\n",
       "      <th>14</th>\n",
       "      <td>9.99</td>\n",
       "    </tr>\n",
       "    <tr>\n",
       "      <th>32</th>\n",
       "      <td>0.99</td>\n",
       "    </tr>\n",
       "    <tr>\n",
       "      <th>34</th>\n",
       "      <td>1.99</td>\n",
       "    </tr>\n",
       "    <tr>\n",
       "      <th>...</th>\n",
       "      <td>...</td>\n",
       "    </tr>\n",
       "    <tr>\n",
       "      <th>999969</th>\n",
       "      <td>2.99</td>\n",
       "    </tr>\n",
       "    <tr>\n",
       "      <th>999971</th>\n",
       "      <td>1.99</td>\n",
       "    </tr>\n",
       "    <tr>\n",
       "      <th>999975</th>\n",
       "      <td>1.99</td>\n",
       "    </tr>\n",
       "    <tr>\n",
       "      <th>999987</th>\n",
       "      <td>1.99</td>\n",
       "    </tr>\n",
       "    <tr>\n",
       "      <th>999988</th>\n",
       "      <td>3.99</td>\n",
       "    </tr>\n",
       "  </tbody>\n",
       "</table>\n",
       "<p>144516 rows × 1 columns</p>\n",
       "</div>"
      ],
      "text/plain": [
       "        purchases\n",
       "5           19.99\n",
       "12           0.99\n",
       "14           9.99\n",
       "32           0.99\n",
       "34           1.99\n",
       "...           ...\n",
       "999969       2.99\n",
       "999971       1.99\n",
       "999975       1.99\n",
       "999987       1.99\n",
       "999988       3.99\n",
       "\n",
       "[144516 rows x 1 columns]"
      ]
     },
     "execution_count": 21,
     "metadata": {},
     "output_type": "execute_result"
    }
   ],
   "source": [
    "## REQUIRED OUTPUT"
   ]
  },
  {
   "cell_type": "markdown",
   "metadata": {},
   "source": [
    "**Parquet:**"
   ]
  },
  {
   "cell_type": "code",
   "execution_count": 135,
   "id": "fad5ab03",
   "metadata": {},
   "outputs": [],
   "source": [
    "import pyarrow.dataset as ds"
   ]
  },
  {
   "cell_type": "code",
   "execution_count": 16,
   "id": "33955864",
   "metadata": {},
   "outputs": [
    {
     "name": "stdout",
     "output_type": "stream",
     "text": [
      "CPU times: user 31.1 ms, sys: 17.9 ms, total: 49 ms\n",
      "Wall time: 22.8 ms\n"
     ]
    },
    {
     "data": {
      "text/plain": [
       "pandas.core.frame.DataFrame"
      ]
     },
     "execution_count": 16,
     "metadata": {},
     "output_type": "execute_result"
    }
   ],
   "source": [
    "%%time\n",
    "df_parquet = pd.read_parquet(path=parquet_path, columns=['purchases', 'dtstring'])\n",
    "type(df_parquet)\n",
    "#df_parquet.query(\"dtstring == 20230101\")[['purchases']]"
   ]
  },
  {
   "cell_type": "code",
   "execution_count": 7,
   "metadata": {},
   "outputs": [
    {
     "name": "stdout",
     "output_type": "stream",
     "text": [
      "CPU times: user 7.27 ms, sys: 14.2 ms, total: 21.5 ms\n",
      "Wall time: 73 ms\n"
     ]
    },
    {
     "data": {
      "text/html": [
       "<div>\n",
       "<style scoped>\n",
       "    .dataframe tbody tr th:only-of-type {\n",
       "        vertical-align: middle;\n",
       "    }\n",
       "\n",
       "    .dataframe tbody tr th {\n",
       "        vertical-align: top;\n",
       "    }\n",
       "\n",
       "    .dataframe thead th {\n",
       "        text-align: right;\n",
       "    }\n",
       "</style>\n",
       "<table border=\"1\" class=\"dataframe\">\n",
       "  <thead>\n",
       "    <tr style=\"text-align: right;\">\n",
       "      <th></th>\n",
       "      <th>purchases</th>\n",
       "    </tr>\n",
       "  </thead>\n",
       "  <tbody>\n",
       "    <tr>\n",
       "      <th>0</th>\n",
       "      <td>1.99</td>\n",
       "    </tr>\n",
       "    <tr>\n",
       "      <th>1</th>\n",
       "      <td>1.99</td>\n",
       "    </tr>\n",
       "    <tr>\n",
       "      <th>2</th>\n",
       "      <td>0.99</td>\n",
       "    </tr>\n",
       "    <tr>\n",
       "      <th>3</th>\n",
       "      <td>1.99</td>\n",
       "    </tr>\n",
       "    <tr>\n",
       "      <th>4</th>\n",
       "      <td>1.99</td>\n",
       "    </tr>\n",
       "    <tr>\n",
       "      <th>...</th>\n",
       "      <td>...</td>\n",
       "    </tr>\n",
       "    <tr>\n",
       "      <th>144511</th>\n",
       "      <td>1.99</td>\n",
       "    </tr>\n",
       "    <tr>\n",
       "      <th>144512</th>\n",
       "      <td>2.99</td>\n",
       "    </tr>\n",
       "    <tr>\n",
       "      <th>144513</th>\n",
       "      <td>1.99</td>\n",
       "    </tr>\n",
       "    <tr>\n",
       "      <th>144514</th>\n",
       "      <td>2.99</td>\n",
       "    </tr>\n",
       "    <tr>\n",
       "      <th>144515</th>\n",
       "      <td>9.99</td>\n",
       "    </tr>\n",
       "  </tbody>\n",
       "</table>\n",
       "<p>144516 rows × 1 columns</p>\n",
       "</div>"
      ],
      "text/plain": [
       "        purchases\n",
       "0            1.99\n",
       "1            1.99\n",
       "2            0.99\n",
       "3            1.99\n",
       "4            1.99\n",
       "...           ...\n",
       "144511       1.99\n",
       "144512       2.99\n",
       "144513       1.99\n",
       "144514       2.99\n",
       "144515       9.99\n",
       "\n",
       "[144516 rows x 1 columns]"
      ]
     },
     "execution_count": 7,
     "metadata": {},
     "output_type": "execute_result"
    }
   ],
   "source": [
    "%%time\n",
    "# Open the Parquet dataset\n",
    "dataset = ds.dataset(parquet_path, format=\"parquet\", partitioning=\"hive\")\n",
    "\n",
    "#dataset.to_table().to_pandas().head()\n",
    "dataset.to_table(columns=[\"purchases\"], filter=ds.field(\"dtstring\") == \"20230101\").to_pandas()\n"
   ]
  },
  {
   "cell_type": "code",
   "execution_count": 22,
   "metadata": {},
   "outputs": [
    {
     "name": "stdout",
     "output_type": "stream",
     "text": [
      "CPU times: user 4.67 ms, sys: 3.38 ms, total: 8.05 ms\n",
      "Wall time: 7.07 ms\n"
     ]
    },
    {
     "data": {
      "text/html": [
       "<div>\n",
       "<style scoped>\n",
       "    .dataframe tbody tr th:only-of-type {\n",
       "        vertical-align: middle;\n",
       "    }\n",
       "\n",
       "    .dataframe tbody tr th {\n",
       "        vertical-align: top;\n",
       "    }\n",
       "\n",
       "    .dataframe thead th {\n",
       "        text-align: right;\n",
       "    }\n",
       "</style>\n",
       "<table border=\"1\" class=\"dataframe\">\n",
       "  <thead>\n",
       "    <tr style=\"text-align: right;\">\n",
       "      <th></th>\n",
       "      <th>purchases</th>\n",
       "    </tr>\n",
       "  </thead>\n",
       "  <tbody>\n",
       "    <tr>\n",
       "      <th>0</th>\n",
       "      <td>19.99</td>\n",
       "    </tr>\n",
       "    <tr>\n",
       "      <th>1</th>\n",
       "      <td>0.99</td>\n",
       "    </tr>\n",
       "    <tr>\n",
       "      <th>2</th>\n",
       "      <td>9.99</td>\n",
       "    </tr>\n",
       "    <tr>\n",
       "      <th>3</th>\n",
       "      <td>0.99</td>\n",
       "    </tr>\n",
       "    <tr>\n",
       "      <th>4</th>\n",
       "      <td>1.99</td>\n",
       "    </tr>\n",
       "    <tr>\n",
       "      <th>...</th>\n",
       "      <td>...</td>\n",
       "    </tr>\n",
       "    <tr>\n",
       "      <th>144511</th>\n",
       "      <td>2.99</td>\n",
       "    </tr>\n",
       "    <tr>\n",
       "      <th>144512</th>\n",
       "      <td>1.99</td>\n",
       "    </tr>\n",
       "    <tr>\n",
       "      <th>144513</th>\n",
       "      <td>1.99</td>\n",
       "    </tr>\n",
       "    <tr>\n",
       "      <th>144514</th>\n",
       "      <td>1.99</td>\n",
       "    </tr>\n",
       "    <tr>\n",
       "      <th>144515</th>\n",
       "      <td>3.99</td>\n",
       "    </tr>\n",
       "  </tbody>\n",
       "</table>\n",
       "<p>144516 rows × 1 columns</p>\n",
       "</div>"
      ],
      "text/plain": [
       "        purchases\n",
       "0           19.99\n",
       "1            0.99\n",
       "2            9.99\n",
       "3            0.99\n",
       "4            1.99\n",
       "...           ...\n",
       "144511       2.99\n",
       "144512       1.99\n",
       "144513       1.99\n",
       "144514       1.99\n",
       "144515       3.99\n",
       "\n",
       "[144516 rows x 1 columns]"
      ]
     },
     "execution_count": 22,
     "metadata": {},
     "output_type": "execute_result"
    }
   ],
   "source": [
    "## REQUIRED OUTPUT"
   ]
  },
  {
   "cell_type": "markdown",
   "metadata": {},
   "source": [
    "---"
   ]
  },
  {
   "cell_type": "markdown",
   "metadata": {},
   "source": [
    "## Question 3 (Big Data Engine, sorting):"
   ]
  },
  {
   "cell_type": "markdown",
   "metadata": {},
   "source": [
    "Return the 10 first transactions of 2023, show the timestamp, transaction_id and the purchases.<br>"
   ]
  },
  {
   "cell_type": "markdown",
   "metadata": {},
   "source": [
    "**CSV:**"
   ]
  },
  {
   "cell_type": "code",
   "execution_count": 156,
   "metadata": {},
   "outputs": [
    {
     "name": "stdout",
     "output_type": "stream",
     "text": [
      "CPU times: user 1.15 s, sys: 152 ms, total: 1.3 s\n",
      "Wall time: 1.31 s\n"
     ]
    },
    {
     "data": {
      "text/html": [
       "<div>\n",
       "<style scoped>\n",
       "    .dataframe tbody tr th:only-of-type {\n",
       "        vertical-align: middle;\n",
       "    }\n",
       "\n",
       "    .dataframe tbody tr th {\n",
       "        vertical-align: top;\n",
       "    }\n",
       "\n",
       "    .dataframe thead th {\n",
       "        text-align: right;\n",
       "    }\n",
       "</style>\n",
       "<table border=\"1\" class=\"dataframe\">\n",
       "  <thead>\n",
       "    <tr style=\"text-align: right;\">\n",
       "      <th></th>\n",
       "      <th>timestamp</th>\n",
       "      <th>transaction_id</th>\n",
       "      <th>purchases</th>\n",
       "    </tr>\n",
       "  </thead>\n",
       "  <tbody>\n",
       "    <tr>\n",
       "      <th>767140</th>\n",
       "      <td>2023-01-01 00:00:00</td>\n",
       "      <td>10110867501</td>\n",
       "      <td>3.99</td>\n",
       "    </tr>\n",
       "    <tr>\n",
       "      <th>141037</th>\n",
       "      <td>2023-01-01 00:00:01</td>\n",
       "      <td>10066668058</td>\n",
       "      <td>1.99</td>\n",
       "    </tr>\n",
       "    <tr>\n",
       "      <th>927430</th>\n",
       "      <td>2023-01-01 00:00:01</td>\n",
       "      <td>10071966072</td>\n",
       "      <td>5.99</td>\n",
       "    </tr>\n",
       "    <tr>\n",
       "      <th>754232</th>\n",
       "      <td>2023-01-01 00:00:01</td>\n",
       "      <td>10059370637</td>\n",
       "      <td>5.99</td>\n",
       "    </tr>\n",
       "    <tr>\n",
       "      <th>624536</th>\n",
       "      <td>2023-01-01 00:00:03</td>\n",
       "      <td>10086163141</td>\n",
       "      <td>2.99</td>\n",
       "    </tr>\n",
       "    <tr>\n",
       "      <th>91568</th>\n",
       "      <td>2023-01-01 00:00:03</td>\n",
       "      <td>10024786933</td>\n",
       "      <td>0.99</td>\n",
       "    </tr>\n",
       "    <tr>\n",
       "      <th>278449</th>\n",
       "      <td>2023-01-01 00:00:04</td>\n",
       "      <td>10021016913</td>\n",
       "      <td>2.99</td>\n",
       "    </tr>\n",
       "    <tr>\n",
       "      <th>483866</th>\n",
       "      <td>2023-01-01 00:00:04</td>\n",
       "      <td>10090801772</td>\n",
       "      <td>0.99</td>\n",
       "    </tr>\n",
       "    <tr>\n",
       "      <th>988344</th>\n",
       "      <td>2023-01-01 00:00:05</td>\n",
       "      <td>10049220525</td>\n",
       "      <td>2.99</td>\n",
       "    </tr>\n",
       "    <tr>\n",
       "      <th>11773</th>\n",
       "      <td>2023-01-01 00:00:05</td>\n",
       "      <td>10122511897</td>\n",
       "      <td>1.99</td>\n",
       "    </tr>\n",
       "  </tbody>\n",
       "</table>\n",
       "</div>"
      ],
      "text/plain": [
       "                 timestamp  transaction_id  purchases\n",
       "767140 2023-01-01 00:00:00     10110867501       3.99\n",
       "141037 2023-01-01 00:00:01     10066668058       1.99\n",
       "927430 2023-01-01 00:00:01     10071966072       5.99\n",
       "754232 2023-01-01 00:00:01     10059370637       5.99\n",
       "624536 2023-01-01 00:00:03     10086163141       2.99\n",
       "91568  2023-01-01 00:00:03     10024786933       0.99\n",
       "278449 2023-01-01 00:00:04     10021016913       2.99\n",
       "483866 2023-01-01 00:00:04     10090801772       0.99\n",
       "988344 2023-01-01 00:00:05     10049220525       2.99\n",
       "11773  2023-01-01 00:00:05     10122511897       1.99"
      ]
     },
     "execution_count": 156,
     "metadata": {},
     "output_type": "execute_result"
    }
   ],
   "source": [
    "%%time\n",
    "\n",
    "# Read the CSV file and select the desired columns\n",
    "df_csv = pd.read_csv(csv_path, usecols=['timestamp', 'transaction_id', 'purchases'], parse_dates=['timestamp'])\n",
    "\n",
    "# Convert the timestamp column to a datetime and extract the year\n",
    "df_csv['year'] = pd.to_datetime(df_csv['timestamp']).dt.year\n",
    "\n",
    "# Filter the dataframe to include only transactions from 2023\n",
    "df_csv = df_csv[df_csv['year'] == 2023]\n",
    "\n",
    "# Select the first 10 rows and the desired columns\n",
    "df_csv = df_csv.sort_values(\"timestamp\").head(10)[['timestamp', 'transaction_id', 'purchases']]\n",
    "\n",
    "# Display the resulting dataframe\n",
    "df_csv\n"
   ]
  },
  {
   "cell_type": "code",
   "execution_count": 23,
   "metadata": {},
   "outputs": [
    {
     "name": "stdout",
     "output_type": "stream",
     "text": [
      "CPU times: user 943 ms, sys: 82.1 ms, total: 1.03 s\n",
      "Wall time: 1.02 s\n"
     ]
    },
    {
     "data": {
      "text/html": [
       "<div>\n",
       "<style scoped>\n",
       "    .dataframe tbody tr th:only-of-type {\n",
       "        vertical-align: middle;\n",
       "    }\n",
       "\n",
       "    .dataframe tbody tr th {\n",
       "        vertical-align: top;\n",
       "    }\n",
       "\n",
       "    .dataframe thead th {\n",
       "        text-align: right;\n",
       "    }\n",
       "</style>\n",
       "<table border=\"1\" class=\"dataframe\">\n",
       "  <thead>\n",
       "    <tr style=\"text-align: right;\">\n",
       "      <th></th>\n",
       "      <th>timestamp</th>\n",
       "      <th>transaction_id</th>\n",
       "      <th>purchases</th>\n",
       "    </tr>\n",
       "  </thead>\n",
       "  <tbody>\n",
       "    <tr>\n",
       "      <th>767140</th>\n",
       "      <td>2023-01-01 00:00:00</td>\n",
       "      <td>10030305175627</td>\n",
       "      <td>3.99</td>\n",
       "    </tr>\n",
       "    <tr>\n",
       "      <th>141037</th>\n",
       "      <td>2023-01-01 00:00:01</td>\n",
       "      <td>10077082828374</td>\n",
       "      <td>2.99</td>\n",
       "    </tr>\n",
       "    <tr>\n",
       "      <th>754232</th>\n",
       "      <td>2023-01-01 00:00:01</td>\n",
       "      <td>10053993818098</td>\n",
       "      <td>2.99</td>\n",
       "    </tr>\n",
       "    <tr>\n",
       "      <th>927430</th>\n",
       "      <td>2023-01-01 00:00:01</td>\n",
       "      <td>10122520668509</td>\n",
       "      <td>0.99</td>\n",
       "    </tr>\n",
       "    <tr>\n",
       "      <th>91568</th>\n",
       "      <td>2023-01-01 00:00:03</td>\n",
       "      <td>10014666691673</td>\n",
       "      <td>1.99</td>\n",
       "    </tr>\n",
       "    <tr>\n",
       "      <th>624536</th>\n",
       "      <td>2023-01-01 00:00:03</td>\n",
       "      <td>10012296032974</td>\n",
       "      <td>0.99</td>\n",
       "    </tr>\n",
       "    <tr>\n",
       "      <th>278449</th>\n",
       "      <td>2023-01-01 00:00:04</td>\n",
       "      <td>10060205823742</td>\n",
       "      <td>2.99</td>\n",
       "    </tr>\n",
       "    <tr>\n",
       "      <th>483866</th>\n",
       "      <td>2023-01-01 00:00:04</td>\n",
       "      <td>10103842269074</td>\n",
       "      <td>3.99</td>\n",
       "    </tr>\n",
       "    <tr>\n",
       "      <th>988344</th>\n",
       "      <td>2023-01-01 00:00:05</td>\n",
       "      <td>10054744018806</td>\n",
       "      <td>2.99</td>\n",
       "    </tr>\n",
       "    <tr>\n",
       "      <th>11773</th>\n",
       "      <td>2023-01-01 00:00:05</td>\n",
       "      <td>10048069563577</td>\n",
       "      <td>3.99</td>\n",
       "    </tr>\n",
       "  </tbody>\n",
       "</table>\n",
       "</div>"
      ],
      "text/plain": [
       "                  timestamp  transaction_id  purchases\n",
       "767140  2023-01-01 00:00:00  10030305175627       3.99\n",
       "141037  2023-01-01 00:00:01  10077082828374       2.99\n",
       "754232  2023-01-01 00:00:01  10053993818098       2.99\n",
       "927430  2023-01-01 00:00:01  10122520668509       0.99\n",
       "91568   2023-01-01 00:00:03  10014666691673       1.99\n",
       "624536  2023-01-01 00:00:03  10012296032974       0.99\n",
       "278449  2023-01-01 00:00:04  10060205823742       2.99\n",
       "483866  2023-01-01 00:00:04  10103842269074       3.99\n",
       "988344  2023-01-01 00:00:05  10054744018806       2.99\n",
       "11773   2023-01-01 00:00:05  10048069563577       3.99"
      ]
     },
     "execution_count": 23,
     "metadata": {},
     "output_type": "execute_result"
    }
   ],
   "source": [
    "## REQUIRED OUTPUT"
   ]
  },
  {
   "cell_type": "markdown",
   "metadata": {},
   "source": [
    "**Pandas (parquet):**"
   ]
  },
  {
   "cell_type": "code",
   "execution_count": 9,
   "metadata": {},
   "outputs": [
    {
     "ename": "AttributeError",
     "evalue": "'pyarrow.lib.ChunkedArray' object has no attribute 'year'",
     "output_type": "error",
     "traceback": [
      "\u001b[0;31m---------------------------------------------------------------------------\u001b[0m",
      "\u001b[0;31mAttributeError\u001b[0m                            Traceback (most recent call last)",
      "Cell \u001b[0;32mIn[9], line 11\u001b[0m\n\u001b[1;32m      8\u001b[0m table \u001b[39m=\u001b[39m dataset\u001b[39m.\u001b[39mto_table(columns\u001b[39m=\u001b[39m[\u001b[39m\"\u001b[39m\u001b[39mtimestamp\u001b[39m\u001b[39m\"\u001b[39m, \u001b[39m\"\u001b[39m\u001b[39mtransaction_id\u001b[39m\u001b[39m\"\u001b[39m, \u001b[39m\"\u001b[39m\u001b[39mpurchases\u001b[39m\u001b[39m\"\u001b[39m])\n\u001b[1;32m     10\u001b[0m \u001b[39m# Convert the timestamp column to a datetime and extract the year\u001b[39;00m\n\u001b[0;32m---> 11\u001b[0m table \u001b[39m=\u001b[39m table\u001b[39m.\u001b[39mselect([table\u001b[39m.\u001b[39;49mcolumn(\u001b[39m\"\u001b[39;49m\u001b[39mtimestamp\u001b[39;49m\u001b[39m\"\u001b[39;49m)\u001b[39m.\u001b[39;49mcast(pa\u001b[39m.\u001b[39;49mtimestamp(\u001b[39m'\u001b[39;49m\u001b[39ms\u001b[39;49m\u001b[39m'\u001b[39;49m))\u001b[39m.\u001b[39;49myear\u001b[39m.\u001b[39mrename(\u001b[39m\"\u001b[39m\u001b[39myear\u001b[39m\u001b[39m\"\u001b[39m)])\n\u001b[1;32m     13\u001b[0m \u001b[39m# Filter the table to include only transactions from 2023\u001b[39;00m\n\u001b[1;32m     14\u001b[0m table \u001b[39m=\u001b[39m table\u001b[39m.\u001b[39mfilter(table\u001b[39m.\u001b[39mcolumn(\u001b[39m\"\u001b[39m\u001b[39myear\u001b[39m\u001b[39m\"\u001b[39m) \u001b[39m==\u001b[39m \u001b[39m2023\u001b[39m)\n",
      "\u001b[0;31mAttributeError\u001b[0m: 'pyarrow.lib.ChunkedArray' object has no attribute 'year'"
     ]
    }
   ],
   "source": [
    "import pyarrow as pa\n",
    "import pyarrow.dataset as ds\n",
    "\n",
    "# Open the Parquet dataset\n",
    "dataset = ds.dataset(parquet_path, format=\"parquet\", partitioning=\"hive\")\n",
    "\n",
    "# Select only the timestamp, transaction_id, and purchases columns\n",
    "table = dataset.to_table(columns=[\"timestamp\", \"transaction_id\", \"purchases\"])\n",
    "\n",
    "# Convert the timestamp column to a datetime and extract the year\n",
    "table = table.select([table.column(\"timestamp\").cast(pa.timestamp('s')).year.rename(\"year\")])\n",
    "\n",
    "# Filter the table to include only transactions from 2023\n",
    "table = table.filter(table.column(\"year\") == 2023)\n",
    "\n",
    "# Select the first 10 rows and the desired columns\n",
    "table = table.head(10).select([table.column(\"timestamp\"), table.column(\"transaction_id\"), table.column(\"purchases\")])\n",
    "\n",
    "# Convert the table to a pandas dataframe\n",
    "df_parquet = table.to_pandas()\n",
    "\n",
    "# Display the resulting dataframe\n",
    "print(df_parquet)\n"
   ]
  },
  {
   "cell_type": "code",
   "execution_count": 219,
   "id": "c4ab0f42",
   "metadata": {},
   "outputs": [
    {
     "data": {
      "text/plain": [
       "<pyarrow.lib.ChunkedArray object at 0x7fbfb9cb3720>\n",
       "[\n",
       "  [\n",
       "    2023-01-01 15:14:46,\n",
       "    2023-01-01 11:24:50,\n",
       "    2023-01-01 18:00:20,\n",
       "    2023-01-01 18:15:25,\n",
       "    2023-01-01 23:30:54,\n",
       "    2023-01-01 18:55:48,\n",
       "    2023-01-01 06:27:27,\n",
       "    2023-01-01 06:45:00,\n",
       "    2023-01-01 13:36:24,\n",
       "    2023-01-01 03:53:06,\n",
       "    ...\n",
       "    2023-01-07 10:35:18,\n",
       "    2023-01-07 11:43:01,\n",
       "    2023-01-07 18:55:08,\n",
       "    2023-01-07 06:39:55,\n",
       "    2023-01-07 16:51:02,\n",
       "    2023-01-07 00:41:22,\n",
       "    2023-01-07 19:40:22,\n",
       "    2023-01-07 13:23:00,\n",
       "    2023-01-07 18:34:30,\n",
       "    2023-01-07 12:31:06\n",
       "  ]\n",
       "]"
      ]
     },
     "execution_count": 219,
     "metadata": {},
     "output_type": "execute_result"
    }
   ],
   "source": [
    "table.column(\"timestamp\").cast(pa.timestamp('s'))"
   ]
  },
  {
   "cell_type": "code",
   "execution_count": null,
   "id": "2fcb6e6a",
   "metadata": {},
   "outputs": [],
   "source": []
  },
  {
   "cell_type": "code",
   "execution_count": 24,
   "metadata": {},
   "outputs": [
    {
     "name": "stdout",
     "output_type": "stream",
     "text": [
      "CPU times: user 182 ms, sys: 23.6 ms, total: 206 ms\n",
      "Wall time: 206 ms\n"
     ]
    },
    {
     "data": {
      "text/html": [
       "<div>\n",
       "<style scoped>\n",
       "    .dataframe tbody tr th:only-of-type {\n",
       "        vertical-align: middle;\n",
       "    }\n",
       "\n",
       "    .dataframe tbody tr th {\n",
       "        vertical-align: top;\n",
       "    }\n",
       "\n",
       "    .dataframe thead th {\n",
       "        text-align: right;\n",
       "    }\n",
       "</style>\n",
       "<table border=\"1\" class=\"dataframe\">\n",
       "  <thead>\n",
       "    <tr style=\"text-align: right;\">\n",
       "      <th></th>\n",
       "      <th>timestamp</th>\n",
       "      <th>transaction_id</th>\n",
       "      <th>purchases</th>\n",
       "    </tr>\n",
       "  </thead>\n",
       "  <tbody>\n",
       "    <tr>\n",
       "      <th>111132</th>\n",
       "      <td>2023-01-01 00:00:00</td>\n",
       "      <td>10030305175627</td>\n",
       "      <td>3.99</td>\n",
       "    </tr>\n",
       "    <tr>\n",
       "      <th>20454</th>\n",
       "      <td>2023-01-01 00:00:01</td>\n",
       "      <td>10077082828374</td>\n",
       "      <td>2.99</td>\n",
       "    </tr>\n",
       "    <tr>\n",
       "      <th>109267</th>\n",
       "      <td>2023-01-01 00:00:01</td>\n",
       "      <td>10053993818098</td>\n",
       "      <td>2.99</td>\n",
       "    </tr>\n",
       "    <tr>\n",
       "      <th>134102</th>\n",
       "      <td>2023-01-01 00:00:01</td>\n",
       "      <td>10122520668509</td>\n",
       "      <td>0.99</td>\n",
       "    </tr>\n",
       "    <tr>\n",
       "      <th>13297</th>\n",
       "      <td>2023-01-01 00:00:03</td>\n",
       "      <td>10014666691673</td>\n",
       "      <td>1.99</td>\n",
       "    </tr>\n",
       "    <tr>\n",
       "      <th>90560</th>\n",
       "      <td>2023-01-01 00:00:03</td>\n",
       "      <td>10012296032974</td>\n",
       "      <td>0.99</td>\n",
       "    </tr>\n",
       "    <tr>\n",
       "      <th>40473</th>\n",
       "      <td>2023-01-01 00:00:04</td>\n",
       "      <td>10060205823742</td>\n",
       "      <td>2.99</td>\n",
       "    </tr>\n",
       "    <tr>\n",
       "      <th>70292</th>\n",
       "      <td>2023-01-01 00:00:04</td>\n",
       "      <td>10103842269074</td>\n",
       "      <td>3.99</td>\n",
       "    </tr>\n",
       "    <tr>\n",
       "      <th>142817</th>\n",
       "      <td>2023-01-01 00:00:05</td>\n",
       "      <td>10054744018806</td>\n",
       "      <td>2.99</td>\n",
       "    </tr>\n",
       "    <tr>\n",
       "      <th>1646</th>\n",
       "      <td>2023-01-01 00:00:05</td>\n",
       "      <td>10048069563577</td>\n",
       "      <td>3.99</td>\n",
       "    </tr>\n",
       "  </tbody>\n",
       "</table>\n",
       "</div>"
      ],
      "text/plain": [
       "                  timestamp  transaction_id  purchases\n",
       "111132  2023-01-01 00:00:00  10030305175627       3.99\n",
       "20454   2023-01-01 00:00:01  10077082828374       2.99\n",
       "109267  2023-01-01 00:00:01  10053993818098       2.99\n",
       "134102  2023-01-01 00:00:01  10122520668509       0.99\n",
       "13297   2023-01-01 00:00:03  10014666691673       1.99\n",
       "90560   2023-01-01 00:00:03  10012296032974       0.99\n",
       "40473   2023-01-01 00:00:04  10060205823742       2.99\n",
       "70292   2023-01-01 00:00:04  10103842269074       3.99\n",
       "142817  2023-01-01 00:00:05  10054744018806       2.99\n",
       "1646    2023-01-01 00:00:05  10048069563577       3.99"
      ]
     },
     "execution_count": 24,
     "metadata": {},
     "output_type": "execute_result"
    }
   ],
   "source": [
    "## REQUIRED OUTPUT"
   ]
  },
  {
   "cell_type": "markdown",
   "metadata": {},
   "source": [
    "Incorporate a Big Data Engine (DuckDB) to read the parquet files faster (in parallel)."
   ]
  },
  {
   "cell_type": "markdown",
   "metadata": {},
   "source": [
    "**Big Data Engine (parquet):**"
   ]
  },
  {
   "cell_type": "code",
   "execution_count": 220,
   "metadata": {},
   "outputs": [],
   "source": [
    "!pip install duckdb -q"
   ]
  },
  {
   "cell_type": "code",
   "execution_count": 221,
   "metadata": {},
   "outputs": [],
   "source": [
    "import duckdb"
   ]
  },
  {
   "cell_type": "code",
   "execution_count": 222,
   "metadata": {},
   "outputs": [],
   "source": [
    "con = duckdb.connect()\n",
    "con.execute(\"PRAGMA threads=8\");\n",
    "\n",
    "# We will use HIVE partitioning format and mimic working against object storage\n",
    "object_storage = \"parquet_scan('parquets/*/*', HIVE_PARTITIONING=1)\""
   ]
  },
  {
   "cell_type": "code",
   "execution_count": 223,
   "metadata": {},
   "outputs": [
    {
     "data": {
      "text/html": [
       "<div>\n",
       "<style scoped>\n",
       "    .dataframe tbody tr th:only-of-type {\n",
       "        vertical-align: middle;\n",
       "    }\n",
       "\n",
       "    .dataframe tbody tr th {\n",
       "        vertical-align: top;\n",
       "    }\n",
       "\n",
       "    .dataframe thead th {\n",
       "        text-align: right;\n",
       "    }\n",
       "</style>\n",
       "<table border=\"1\" class=\"dataframe\">\n",
       "  <thead>\n",
       "    <tr style=\"text-align: right;\">\n",
       "      <th></th>\n",
       "      <th>timestamp</th>\n",
       "      <th>user_id</th>\n",
       "      <th>platform</th>\n",
       "      <th>transaction_id</th>\n",
       "      <th>purchases</th>\n",
       "      <th>session_time</th>\n",
       "      <th>dtstring</th>\n",
       "    </tr>\n",
       "  </thead>\n",
       "  <tbody>\n",
       "    <tr>\n",
       "      <th>0</th>\n",
       "      <td>2023-01-05 05:37:18</td>\n",
       "      <td>8130325</td>\n",
       "      <td>Amazon</td>\n",
       "      <td>10122100727</td>\n",
       "      <td>2.99</td>\n",
       "      <td>7.04</td>\n",
       "      <td>20230105</td>\n",
       "    </tr>\n",
       "    <tr>\n",
       "      <th>1</th>\n",
       "      <td>2023-01-05 00:30:49</td>\n",
       "      <td>8801489</td>\n",
       "      <td>iOS</td>\n",
       "      <td>10068883639</td>\n",
       "      <td>2.99</td>\n",
       "      <td>9.31</td>\n",
       "      <td>20230105</td>\n",
       "    </tr>\n",
       "    <tr>\n",
       "      <th>2</th>\n",
       "      <td>2023-01-05 21:11:49</td>\n",
       "      <td>9140602</td>\n",
       "      <td>Android</td>\n",
       "      <td>10096474109</td>\n",
       "      <td>4.99</td>\n",
       "      <td>5.09</td>\n",
       "      <td>20230105</td>\n",
       "    </tr>\n",
       "    <tr>\n",
       "      <th>3</th>\n",
       "      <td>2023-01-05 10:51:21</td>\n",
       "      <td>1095977</td>\n",
       "      <td>iOS</td>\n",
       "      <td>10043946892</td>\n",
       "      <td>4.99</td>\n",
       "      <td>3.01</td>\n",
       "      <td>20230105</td>\n",
       "    </tr>\n",
       "    <tr>\n",
       "      <th>4</th>\n",
       "      <td>2023-01-05 01:04:17</td>\n",
       "      <td>9380299</td>\n",
       "      <td>Android</td>\n",
       "      <td>10076376936</td>\n",
       "      <td>4.99</td>\n",
       "      <td>1.11</td>\n",
       "      <td>20230105</td>\n",
       "    </tr>\n",
       "    <tr>\n",
       "      <th>...</th>\n",
       "      <td>...</td>\n",
       "      <td>...</td>\n",
       "      <td>...</td>\n",
       "      <td>...</td>\n",
       "      <td>...</td>\n",
       "      <td>...</td>\n",
       "      <td>...</td>\n",
       "    </tr>\n",
       "    <tr>\n",
       "      <th>999995</th>\n",
       "      <td>2023-01-07 00:41:22</td>\n",
       "      <td>1278663</td>\n",
       "      <td>Android</td>\n",
       "      <td>10121537471</td>\n",
       "      <td>2.99</td>\n",
       "      <td>7.74</td>\n",
       "      <td>20230107</td>\n",
       "    </tr>\n",
       "    <tr>\n",
       "      <th>999996</th>\n",
       "      <td>2023-01-07 19:40:22</td>\n",
       "      <td>8098390</td>\n",
       "      <td>Android</td>\n",
       "      <td>10033032840</td>\n",
       "      <td>0.99</td>\n",
       "      <td>3.79</td>\n",
       "      <td>20230107</td>\n",
       "    </tr>\n",
       "    <tr>\n",
       "      <th>999997</th>\n",
       "      <td>2023-01-07 13:23:00</td>\n",
       "      <td>7700528</td>\n",
       "      <td>iOS</td>\n",
       "      <td>10032616175</td>\n",
       "      <td>2.99</td>\n",
       "      <td>2.99</td>\n",
       "      <td>20230107</td>\n",
       "    </tr>\n",
       "    <tr>\n",
       "      <th>999998</th>\n",
       "      <td>2023-01-07 18:34:30</td>\n",
       "      <td>4498226</td>\n",
       "      <td>Android</td>\n",
       "      <td>10088295033</td>\n",
       "      <td>2.99</td>\n",
       "      <td>5.15</td>\n",
       "      <td>20230107</td>\n",
       "    </tr>\n",
       "    <tr>\n",
       "      <th>999999</th>\n",
       "      <td>2023-01-07 12:31:06</td>\n",
       "      <td>8598219</td>\n",
       "      <td>Android</td>\n",
       "      <td>10067436354</td>\n",
       "      <td>0.99</td>\n",
       "      <td>7.66</td>\n",
       "      <td>20230107</td>\n",
       "    </tr>\n",
       "  </tbody>\n",
       "</table>\n",
       "<p>1000000 rows × 7 columns</p>\n",
       "</div>"
      ],
      "text/plain": [
       "                  timestamp  user_id platform  transaction_id  purchases  \\\n",
       "0       2023-01-05 05:37:18  8130325   Amazon     10122100727       2.99   \n",
       "1       2023-01-05 00:30:49  8801489      iOS     10068883639       2.99   \n",
       "2       2023-01-05 21:11:49  9140602  Android     10096474109       4.99   \n",
       "3       2023-01-05 10:51:21  1095977      iOS     10043946892       4.99   \n",
       "4       2023-01-05 01:04:17  9380299  Android     10076376936       4.99   \n",
       "...                     ...      ...      ...             ...        ...   \n",
       "999995  2023-01-07 00:41:22  1278663  Android     10121537471       2.99   \n",
       "999996  2023-01-07 19:40:22  8098390  Android     10033032840       0.99   \n",
       "999997  2023-01-07 13:23:00  7700528      iOS     10032616175       2.99   \n",
       "999998  2023-01-07 18:34:30  4498226  Android     10088295033       2.99   \n",
       "999999  2023-01-07 12:31:06  8598219  Android     10067436354       0.99   \n",
       "\n",
       "        session_time  dtstring  \n",
       "0               7.04  20230105  \n",
       "1               9.31  20230105  \n",
       "2               5.09  20230105  \n",
       "3               3.01  20230105  \n",
       "4               1.11  20230105  \n",
       "...              ...       ...  \n",
       "999995          7.74  20230107  \n",
       "999996          3.79  20230107  \n",
       "999997          2.99  20230107  \n",
       "999998          5.15  20230107  \n",
       "999999          7.66  20230107  \n",
       "\n",
       "[1000000 rows x 7 columns]"
      ]
     },
     "execution_count": 223,
     "metadata": {},
     "output_type": "execute_result"
    }
   ],
   "source": [
    "example_query = f\"\"\"\n",
    "\n",
    "SELECT *\n",
    "FROM {object_storage}\n",
    "\n",
    "\"\"\"\n",
    "\n",
    "con.execute(example_query).df()"
   ]
  },
  {
   "cell_type": "code",
   "execution_count": 257,
   "metadata": {},
   "outputs": [
    {
     "ename": "BinderException",
     "evalue": "Binder Error: No function matches the given name and argument types 'date_part(VARCHAR, VARCHAR)'. You might need to add explicit type casts.\n\tCandidate functions:\n\tdate_part(VARCHAR, TIMESTAMP WITH TIME ZONE) -> BIGINT\n\tdate_part(VARCHAR[], TIMESTAMP WITH TIME ZONE) -> STRUCT()\n\tdate_part(VARCHAR, DATE) -> BIGINT\n\tdate_part(VARCHAR, TIMESTAMP) -> BIGINT\n\tdate_part(VARCHAR, TIME) -> BIGINT\n\tdate_part(VARCHAR, INTERVAL) -> BIGINT\n\tdate_part(VARCHAR[], DATE) -> STRUCT()\n\tdate_part(VARCHAR[], TIMESTAMP) -> STRUCT()\n\tdate_part(VARCHAR[], TIME) -> STRUCT()\n\tdate_part(VARCHAR[], INTERVAL) -> STRUCT()\n\nLINE 2: ...T timestamp, transaction_id, purchases, EXTRACT(YEAR FROM timestamp) BETWEEN 2...\n                                                  ^",
     "output_type": "error",
     "traceback": [
      "\u001b[0;31m---------------------------------------------------------------------------\u001b[0m",
      "\u001b[0;31mBinderException\u001b[0m                           Traceback (most recent call last)",
      "Cell \u001b[0;32mIn[257], line 7\u001b[0m\n\u001b[1;32m      2\u001b[0m example_query \u001b[39m=\u001b[39m \u001b[39mf\u001b[39m\u001b[39m\"\"\"\u001b[39m\n\u001b[1;32m      3\u001b[0m \u001b[39mSELECT timestamp, transaction_id, purchases, EXTRACT(YEAR FROM timestamp) BETWEEN 2020 AND 2022\u001b[39m\n\u001b[1;32m      4\u001b[0m \u001b[39mFROM \u001b[39m\u001b[39m{\u001b[39;00mobject_storage\u001b[39m}\u001b[39;00m\n\u001b[1;32m      5\u001b[0m \u001b[39m\"\"\"\u001b[39m\n\u001b[1;32m      6\u001b[0m \u001b[39m# Execute the query and retrieve the results as a pandas dataframe\u001b[39;00m\n\u001b[0;32m----> 7\u001b[0m df \u001b[39m=\u001b[39m con\u001b[39m.\u001b[39;49mexecute(example_query)\u001b[39m.\u001b[39mdf()\n\u001b[1;32m      9\u001b[0m \u001b[39m# Select the first 10 rows and the desired columns\u001b[39;00m\n\u001b[1;32m     10\u001b[0m df[[\u001b[39m'\u001b[39m\u001b[39mtimestamp\u001b[39m\u001b[39m'\u001b[39m, \u001b[39m'\u001b[39m\u001b[39mtransaction_id\u001b[39m\u001b[39m'\u001b[39m, \u001b[39m'\u001b[39m\u001b[39mpurchases\u001b[39m\u001b[39m'\u001b[39m]]\n",
      "\u001b[0;31mBinderException\u001b[0m: Binder Error: No function matches the given name and argument types 'date_part(VARCHAR, VARCHAR)'. You might need to add explicit type casts.\n\tCandidate functions:\n\tdate_part(VARCHAR, TIMESTAMP WITH TIME ZONE) -> BIGINT\n\tdate_part(VARCHAR[], TIMESTAMP WITH TIME ZONE) -> STRUCT()\n\tdate_part(VARCHAR, DATE) -> BIGINT\n\tdate_part(VARCHAR, TIMESTAMP) -> BIGINT\n\tdate_part(VARCHAR, TIME) -> BIGINT\n\tdate_part(VARCHAR, INTERVAL) -> BIGINT\n\tdate_part(VARCHAR[], DATE) -> STRUCT()\n\tdate_part(VARCHAR[], TIMESTAMP) -> STRUCT()\n\tdate_part(VARCHAR[], TIME) -> STRUCT()\n\tdate_part(VARCHAR[], INTERVAL) -> STRUCT()\n\nLINE 2: ...T timestamp, transaction_id, purchases, EXTRACT(YEAR FROM timestamp) BETWEEN 2...\n                                                  ^"
     ]
    }
   ],
   "source": [
    "# YOUR CODE\n",
    "example_query = f\"\"\"\n",
    "SELECT timestamp, transaction_id, purchases, EXTRACT(YEAR FROM timestamp) BETWEEN 2020 AND 2022\n",
    "FROM {object_storage}\n",
    "\"\"\"\n",
    "# Execute the query and retrieve the results as a pandas dataframe\n",
    "df = con.execute(example_query).df()\n",
    "\n",
    "# Select the first 10 rows and the desired columns\n",
    "df[['timestamp', 'transaction_id', 'purchases']]"
   ]
  },
  {
   "cell_type": "code",
   "execution_count": 29,
   "metadata": {},
   "outputs": [
    {
     "name": "stdout",
     "output_type": "stream",
     "text": [
      "CPU times: user 39.9 ms, sys: 5.87 ms, total: 45.8 ms\n",
      "Wall time: 44.8 ms\n"
     ]
    },
    {
     "data": {
      "text/html": [
       "<div>\n",
       "<style scoped>\n",
       "    .dataframe tbody tr th:only-of-type {\n",
       "        vertical-align: middle;\n",
       "    }\n",
       "\n",
       "    .dataframe tbody tr th {\n",
       "        vertical-align: top;\n",
       "    }\n",
       "\n",
       "    .dataframe thead th {\n",
       "        text-align: right;\n",
       "    }\n",
       "</style>\n",
       "<table border=\"1\" class=\"dataframe\">\n",
       "  <thead>\n",
       "    <tr style=\"text-align: right;\">\n",
       "      <th></th>\n",
       "      <th>timestamp</th>\n",
       "      <th>transaction_id</th>\n",
       "      <th>purchases</th>\n",
       "    </tr>\n",
       "  </thead>\n",
       "  <tbody>\n",
       "    <tr>\n",
       "      <th>0</th>\n",
       "      <td>2023-01-01 00:00:00</td>\n",
       "      <td>10030305175627</td>\n",
       "      <td>3.99</td>\n",
       "    </tr>\n",
       "    <tr>\n",
       "      <th>1</th>\n",
       "      <td>2023-01-01 00:00:01</td>\n",
       "      <td>10053993818098</td>\n",
       "      <td>2.99</td>\n",
       "    </tr>\n",
       "    <tr>\n",
       "      <th>2</th>\n",
       "      <td>2023-01-01 00:00:01</td>\n",
       "      <td>10122520668509</td>\n",
       "      <td>0.99</td>\n",
       "    </tr>\n",
       "    <tr>\n",
       "      <th>3</th>\n",
       "      <td>2023-01-01 00:00:01</td>\n",
       "      <td>10077082828374</td>\n",
       "      <td>2.99</td>\n",
       "    </tr>\n",
       "    <tr>\n",
       "      <th>4</th>\n",
       "      <td>2023-01-01 00:00:03</td>\n",
       "      <td>10012296032974</td>\n",
       "      <td>0.99</td>\n",
       "    </tr>\n",
       "    <tr>\n",
       "      <th>5</th>\n",
       "      <td>2023-01-01 00:00:03</td>\n",
       "      <td>10014666691673</td>\n",
       "      <td>1.99</td>\n",
       "    </tr>\n",
       "    <tr>\n",
       "      <th>6</th>\n",
       "      <td>2023-01-01 00:00:04</td>\n",
       "      <td>10103842269074</td>\n",
       "      <td>3.99</td>\n",
       "    </tr>\n",
       "    <tr>\n",
       "      <th>7</th>\n",
       "      <td>2023-01-01 00:00:04</td>\n",
       "      <td>10060205823742</td>\n",
       "      <td>2.99</td>\n",
       "    </tr>\n",
       "    <tr>\n",
       "      <th>8</th>\n",
       "      <td>2023-01-01 00:00:05</td>\n",
       "      <td>10048069563577</td>\n",
       "      <td>3.99</td>\n",
       "    </tr>\n",
       "    <tr>\n",
       "      <th>9</th>\n",
       "      <td>2023-01-01 00:00:05</td>\n",
       "      <td>10054744018806</td>\n",
       "      <td>2.99</td>\n",
       "    </tr>\n",
       "  </tbody>\n",
       "</table>\n",
       "</div>"
      ],
      "text/plain": [
       "             timestamp  transaction_id  purchases\n",
       "0  2023-01-01 00:00:00  10030305175627       3.99\n",
       "1  2023-01-01 00:00:01  10053993818098       2.99\n",
       "2  2023-01-01 00:00:01  10122520668509       0.99\n",
       "3  2023-01-01 00:00:01  10077082828374       2.99\n",
       "4  2023-01-01 00:00:03  10012296032974       0.99\n",
       "5  2023-01-01 00:00:03  10014666691673       1.99\n",
       "6  2023-01-01 00:00:04  10103842269074       3.99\n",
       "7  2023-01-01 00:00:04  10060205823742       2.99\n",
       "8  2023-01-01 00:00:05  10048069563577       3.99\n",
       "9  2023-01-01 00:00:05  10054744018806       2.99"
      ]
     },
     "execution_count": 29,
     "metadata": {},
     "output_type": "execute_result"
    }
   ],
   "source": [
    "## REQUIRED OUTPUT"
   ]
  },
  {
   "cell_type": "markdown",
   "metadata": {},
   "source": [
    "---"
   ]
  },
  {
   "cell_type": "markdown",
   "metadata": {},
   "source": [
    "## Question 4 (Big Data Engine, aggregation):"
   ]
  },
  {
   "cell_type": "markdown",
   "metadata": {},
   "source": [
    "**Pandas (parquet):**"
   ]
  },
  {
   "cell_type": "code",
   "execution_count": null,
   "metadata": {},
   "outputs": [],
   "source": [
    "# YOUR CODE"
   ]
  },
  {
   "cell_type": "code",
   "execution_count": 30,
   "metadata": {},
   "outputs": [
    {
     "name": "stdout",
     "output_type": "stream",
     "text": [
      "CPU times: user 126 ms, sys: 41.1 ms, total: 167 ms\n",
      "Wall time: 107 ms\n"
     ]
    },
    {
     "data": {
      "text/html": [
       "<div>\n",
       "<style scoped>\n",
       "    .dataframe tbody tr th:only-of-type {\n",
       "        vertical-align: middle;\n",
       "    }\n",
       "\n",
       "    .dataframe tbody tr th {\n",
       "        vertical-align: top;\n",
       "    }\n",
       "\n",
       "    .dataframe thead th {\n",
       "        text-align: right;\n",
       "    }\n",
       "</style>\n",
       "<table border=\"1\" class=\"dataframe\">\n",
       "  <thead>\n",
       "    <tr style=\"text-align: right;\">\n",
       "      <th></th>\n",
       "      <th>purchases</th>\n",
       "    </tr>\n",
       "    <tr>\n",
       "      <th>platform</th>\n",
       "      <th></th>\n",
       "    </tr>\n",
       "  </thead>\n",
       "  <tbody>\n",
       "    <tr>\n",
       "      <th>Amazon</th>\n",
       "      <td>153859.39</td>\n",
       "    </tr>\n",
       "    <tr>\n",
       "      <th>Android</th>\n",
       "      <td>1544756.64</td>\n",
       "    </tr>\n",
       "    <tr>\n",
       "      <th>iOS</th>\n",
       "      <td>1392506.97</td>\n",
       "    </tr>\n",
       "  </tbody>\n",
       "</table>\n",
       "</div>"
      ],
      "text/plain": [
       "           purchases\n",
       "platform            \n",
       "Amazon     153859.39\n",
       "Android   1544756.64\n",
       "iOS       1392506.97"
      ]
     },
     "execution_count": 30,
     "metadata": {},
     "output_type": "execute_result"
    }
   ],
   "source": [
    "## REQUIRED OUTPUT"
   ]
  },
  {
   "cell_type": "markdown",
   "metadata": {},
   "source": [
    "**Big Data Engine (parquet):**"
   ]
  },
  {
   "cell_type": "code",
   "execution_count": null,
   "metadata": {},
   "outputs": [],
   "source": [
    "# YOUR CODE"
   ]
  },
  {
   "cell_type": "code",
   "execution_count": 31,
   "metadata": {},
   "outputs": [
    {
     "name": "stdout",
     "output_type": "stream",
     "text": [
      "CPU times: user 41.2 ms, sys: 7.3 ms, total: 48.5 ms\n",
      "Wall time: 13.8 ms\n"
     ]
    },
    {
     "data": {
      "text/html": [
       "<div>\n",
       "<style scoped>\n",
       "    .dataframe tbody tr th:only-of-type {\n",
       "        vertical-align: middle;\n",
       "    }\n",
       "\n",
       "    .dataframe tbody tr th {\n",
       "        vertical-align: top;\n",
       "    }\n",
       "\n",
       "    .dataframe thead th {\n",
       "        text-align: right;\n",
       "    }\n",
       "</style>\n",
       "<table border=\"1\" class=\"dataframe\">\n",
       "  <thead>\n",
       "    <tr style=\"text-align: right;\">\n",
       "      <th></th>\n",
       "      <th>platform</th>\n",
       "      <th>purchases</th>\n",
       "    </tr>\n",
       "  </thead>\n",
       "  <tbody>\n",
       "    <tr>\n",
       "      <th>0</th>\n",
       "      <td>iOS</td>\n",
       "      <td>1392506.97</td>\n",
       "    </tr>\n",
       "    <tr>\n",
       "      <th>1</th>\n",
       "      <td>Android</td>\n",
       "      <td>1544756.64</td>\n",
       "    </tr>\n",
       "    <tr>\n",
       "      <th>2</th>\n",
       "      <td>Amazon</td>\n",
       "      <td>153859.39</td>\n",
       "    </tr>\n",
       "  </tbody>\n",
       "</table>\n",
       "</div>"
      ],
      "text/plain": [
       "  platform   purchases\n",
       "0      iOS  1392506.97\n",
       "1  Android  1544756.64\n",
       "2   Amazon   153859.39"
      ]
     },
     "execution_count": 31,
     "metadata": {},
     "output_type": "execute_result"
    }
   ],
   "source": [
    "## REQUIRED OUTPUT"
   ]
  },
  {
   "cell_type": "markdown",
   "metadata": {},
   "source": [
    "---"
   ]
  },
  {
   "cell_type": "markdown",
   "metadata": {},
   "source": [
    "## Question 5 (BI):"
   ]
  },
  {
   "cell_type": "markdown",
   "metadata": {},
   "source": [
    "Display the purchases over time, seperating between each one of the device platforms, the data manipulations should be in SQL only."
   ]
  },
  {
   "cell_type": "code",
   "execution_count": null,
   "metadata": {},
   "outputs": [],
   "source": [
    "# YOUR CODE"
   ]
  },
  {
   "cell_type": "code",
   "execution_count": 33,
   "metadata": {},
   "outputs": [
    {
     "data": {
      "image/png": "[encoded data removed]",
      "text/plain": [
       "<Figure size 720x432 with 1 Axes>"
      ]
     },
     "metadata": {
      "needs_background": "light"
     },
     "output_type": "display_data"
    }
   ],
   "source": [
    "## REQUIRED OUTPUT"
   ]
  },
  {
   "cell_type": "markdown",
   "metadata": {},
   "source": [
    "---"
   ]
  },
  {
   "cell_type": "markdown",
   "metadata": {},
   "source": [
    "## Question 6 (Scalabilty):"
   ]
  },
  {
   "cell_type": "markdown",
   "metadata": {},
   "source": [
    "Re-run the notebook with:<br>\n",
    "**AMOUNT_OF_ROWS = 20_000_000**<br>\n",
    "\n",
    "~1 GB for this type of data"
   ]
  },
  {
   "cell_type": "markdown",
   "metadata": {},
   "source": [
    "“Big data” is a term relative to the available computing and storage power on the market.\n",
    "- In 1999, one gigabyte (1 GB) was considered big data.\n",
    "- Today, it is usually consists petabytes (1,024 terabytes) or exabytes (1,024 petabytes) of data."
   ]
  },
  {
   "cell_type": "markdown",
   "metadata": {},
   "source": [
    "1) **Do you see change in the benchmarks?**<br>\n",
    "\n",
    "2) **What you think would happen if you run the notebook with 1B rows? which cells wouldn't run?**\n",
    "\n",
    "3) **Try to re-run the notebook and sort the dataframe by timestamp before the partitioning process.**\n",
    "* What happend to the folder size?\n",
    "* Try to run a query which filters just 1 hour of data and compare the run time against the orginal partition process, what happend?"
   ]
  },
  {
   "cell_type": "raw",
   "metadata": {},
   "source": [
    "# Open-ended question"
   ]
  },
  {
   "cell_type": "markdown",
   "metadata": {},
   "source": [
    "Remember to delete the files from your computer, so you can free this 1 GB :)"
   ]
  },
  {
   "cell_type": "markdown",
   "metadata": {},
   "source": [
    "---"
   ]
  }
 ],
 "metadata": {
  "kernelspec": {
   "display_name": "BDS_Recitation",
   "language": "python",
   "name": "python3"
  },
  "language_info": {
   "codemirror_mode": {
    "name": "ipython",
    "version": 3
   },
   "file_extension": ".py",
   "mimetype": "text/x-python",
   "name": "python",
   "nbconvert_exporter": "python",
   "pygments_lexer": "ipython3",
   "version": "3.8.15"
  },
  "vscode": {
   "interpreter": {
    "hash": "a318961f1267bd63f435799b80d952a8fcec9b4e6ec9b6a99f87f57fd7c14d18"
   }
  }
 },
 "nbformat": 4,
 "nbformat_minor": 5
}
